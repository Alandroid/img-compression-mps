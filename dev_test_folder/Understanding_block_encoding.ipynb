{
 "cells": [
  {
   "cell_type": "markdown",
   "metadata": {},
   "source": [
    "This is the notebook used to understand how the block encoding can be generalized"
   ]
  },
  {
   "cell_type": "code",
   "execution_count": 1,
   "metadata": {},
   "outputs": [
    {
     "name": "stderr",
     "output_type": "stream",
     "text": [
      "/Users/maxge/miniconda3/envs/QEL/lib/python3.10/site-packages/cotengra/hyperoptimizers/hyper.py:33: UserWarning: Couldn't import `kahypar` - skipping from default hyper optimizer and using basic `labels` method instead.\n",
      "  warnings.warn(\n"
     ]
    }
   ],
   "source": [
    "from mps_ND import NDMPS\n",
    "import nibabel as nib\n",
    "import numpy as np\n",
    "import matplotlib.pyplot as plt \n",
    "from utils_ND import *"
   ]
  },
  {
   "cell_type": "code",
   "execution_count": 2,
   "metadata": {},
   "outputs": [],
   "source": [
    "def get_factorlist(shape):\n",
    "    # todo rename to actually get_block_sizes\n",
    "    factor_lists = []\n",
    "    for dim_size in shape:\n",
    "        if dim_size == 1:\n",
    "            # Handle dimension of size 1 by assigning a factor of 1\n",
    "            factors = [1]\n",
    "        else:\n",
    "            factors_dict = factorint(dim_size)\n",
    "            # Extract prime factors and repeat them according to their exponents\n",
    "            factors = []\n",
    "            for prime, exponent in sorted(factors_dict.items()):\n",
    "                factors.extend([prime] * exponent)\n",
    "        # Sort the factors in ascending order\n",
    "        factors_sorted = sorted(factors)\n",
    "        factor_lists.append(factors_sorted)\n",
    "    \n",
    "    # Step 2: Balancing the number of factors across all dimensions\n",
    "    # Determine the minimum number of factors among all dimensions\n",
    "    min_factors = min(len(factors) for factors in factor_lists)\n",
    "    \n",
    "    # Balance factors by grouping the smallest factors in dimensions with more factors\n",
    "    for idx, factors in enumerate(factor_lists):\n",
    "        if len(factors) > min_factors:\n",
    "            factor_lists[idx] = balance_factors(factors, min_factors)\n",
    "        elif len(factors) < min_factors:\n",
    "            # If a dimension has fewer factors, pad with 1s to reach min_factors\n",
    "            # This effectively treats missing factors as trivial\n",
    "            factor_lists[idx].extend([1] * (min_factors - len(factors)))\n",
    "            factor_lists[idx] = sorted(factor_lists[idx])\n",
    "        # If equal, do nothing\n",
    "    for idx, list in enumerate(factor_lists):\n",
    "        if idx%2 == 1:\n",
    "            factor_lists[idx] = factor_lists[idx][::-1] \n",
    "\n",
    "    return np.array(factor_lists).T\n",
    "\n",
    "def hierarchical_block_indexing(index, shape, block_sizes):\n",
    "    num_levels = len(block_sizes)\n",
    "    dim = len(index)\n",
    "    # important only insert numpy arrays\n",
    "    hierarchical_indices = []\n",
    "    for level in range(num_levels):\n",
    "        if level == 0:\n",
    "            hierarchical_indices.append(np.floor(index/np.prod(block_sizes[1:], axis=0)))\n",
    "        elif level == num_levels-1:\n",
    "            hierarchical_indices.append(np.floor(np.mod(index, block_sizes[-1])))\n",
    "        else:\n",
    "            hierarchical_indices.append(np.floor(np.mod(index, np.prod(block_sizes[level:], axis=0))/np.prod(block_sizes[level+1:], axis=0)))\n",
    "    return hierarchical_indices\n",
    "\n",
    "\n",
    "def flatten_index(index, block_shape):\n",
    "    \"\"\"\n",
    "    Converts a multi-dimensional index into a flattened index using row-major order (C-style).\n",
    "    \n",
    "    Parameters:\n",
    "    - index: tuple of indices (i1, i2, ..., id)\n",
    "    - block_shape: tuple representing the shape of the block (B1, B2, ..., Bd)\n",
    "    \n",
    "    Returns:\n",
    "    - Flattened index (int)\n",
    "    \"\"\"\n",
    "    if len(index) != len(block_shape):\n",
    "        raise ValueError(\"Index and block shape must have the same number of dimensions.\")\n",
    "    \n",
    "    # Compute the flattened index using numpy's ravel_multi_index equivalent logic\n",
    "    flattened_index = sum(index[k] * np.prod(block_shape[k+1:]) for k in range(len(index)))\n",
    "    \n",
    "    return flattened_index.astype(int)\n",
    "\n",
    "def return_flattened_idices(hierarchical_index, block_sizes):\n",
    "    ids = []\n",
    "    for i in range(len(block_sizes)):\n",
    "        ids.append(flatten_index(hierarchical_index[i], block_sizes[i]))\n",
    "    return ids\n",
    "\n",
    "def stdId_to_hierarchical_index(stdId, shape):\n",
    "    block_sizes = get_factorlist(shape)\n",
    "    hier_ind = hierarchical_block_indexing(stdId, shape, block_sizes)\n",
    "    return return_flattened_idices(hier_ind, block_sizes)\n",
    "\n",
    "\n"
   ]
  },
  {
   "cell_type": "code",
   "execution_count": 3,
   "metadata": {},
   "outputs": [
    {
     "name": "stdout",
     "output_type": "stream",
     "text": [
      "[np.int64(1), np.int64(45), np.int64(37)]\n"
     ]
    }
   ],
   "source": [
    "shape = (64,32,20,54)\n",
    "block_sizes = get_factorlist(shape)\n",
    "index = (5, 6,7,10)\n",
    "hierarchical_index = hierarchical_block_indexing(index, shape, block_sizes)\n",
    "flatten_ind = return_flattened_idices(hierarchical_index, block_sizes)\n",
    "print(flatten_ind)"
   ]
  },
  {
   "cell_type": "code",
   "execution_count": 4,
   "metadata": {},
   "outputs": [
    {
     "name": "stdout",
     "output_type": "stream",
     "text": [
      "[[4 4 2 6]\n",
      " [4 4 2 3]\n",
      " [4 2 5 3]]\n",
      "[[4 2 5 3]\n",
      " [4 4 2 3]]\n",
      "[[16  8 10  9]\n",
      " [ 4  2  5  3]]\n"
     ]
    }
   ],
   "source": [
    "print(block_sizes)\n",
    "print(block_sizes[-1:0:-1])\n",
    "print(np.cumprod(block_sizes[-1:0:-1], axis =0)[::-1])"
   ]
  },
  {
   "cell_type": "code",
   "execution_count": 5,
   "metadata": {},
   "outputs": [
    {
     "data": {
      "text/plain": [
       "[array([0., 0., 0., 1.]), array([1., 3., 1., 0.]), array([1., 0., 2., 1.])]"
      ]
     },
     "execution_count": 5,
     "metadata": {},
     "output_type": "execute_result"
    }
   ],
   "source": [
    "hierarchical_index"
   ]
  },
  {
   "cell_type": "code",
   "execution_count": 6,
   "metadata": {},
   "outputs": [
    {
     "data": {
      "text/plain": [
       "[np.int64(1), np.int64(45), np.int64(37)]"
      ]
     },
     "execution_count": 6,
     "metadata": {},
     "output_type": "execute_result"
    }
   ],
   "source": [
    "stdId_to_hierarchical_index(index, shape)"
   ]
  },
  {
   "cell_type": "code",
   "execution_count": 7,
   "metadata": {},
   "outputs": [
    {
     "data": {
      "text/plain": [
       "(np.int64(1), np.int64(45), np.int64(37))"
      ]
     },
     "execution_count": 7,
     "metadata": {},
     "output_type": "execute_result"
    }
   ],
   "source": [
    "qubit_size, kron = get_block_encoding_map_general(shape)\n",
    "kron[index]"
   ]
  },
  {
   "cell_type": "code",
   "execution_count": 8,
   "metadata": {},
   "outputs": [],
   "source": [
    "import numpy as np\n",
    "import matplotlib.pyplot as plt\n",
    "import quimb.tensor as qtn\n",
    "from utils_ND import *\n",
    "from scipy.fftpack import dct, idct\n",
    "import time\n",
    "\n",
    "def time_function(func):\n",
    "    def wrapper(*args, **kwargs):\n",
    "        start_time = time.time()\n",
    "        result = func(*args, **kwargs)\n",
    "        elapsed_time = time.time() - start_time\n",
    "        print(f\"Time to run {func.__name__}: {elapsed_time:.4f} seconds\")\n",
    "        return result\n",
    "    return wrapper\n",
    "\n",
    "\n",
    "class NDMPS_old:\n",
    "    def __init__(self, mps=None, qubit_size=None, encoding_map=None, norm=True, mode=\"Std\", min_value = 0, max_value = 1):\n",
    "        self.qubit_size = qubit_size\n",
    "        self.encoding_map = encoding_map\n",
    "        self.mps = mps\n",
    "        self.norm = norm #Normalize matrix data\n",
    "        #Compression mode \n",
    "        # \"Std\" standard Block Encoding\n",
    "        # \"DCT\" discrete cosine fourier transform before compression\n",
    "        self.mode = mode \n",
    "        self.min_value = min_value\n",
    "        self.max_value = max_value\n",
    "    \n",
    "    @classmethod\n",
    "    # @time_function\n",
    "    def from_matrix(cls, matrix, norm = False, mode = \"Std\"):\n",
    "        qubit_size, encoding_map = get_block_encoding_map_general(matrix.shape)\n",
    "\n",
    "        #check for flags\n",
    "        if norm:\n",
    "            matrix = matrix / (np.linalg.norm(matrix))\n",
    "        if mode == \"DCT\":\n",
    "            matrix = dct(matrix, norm = \"ortho\")\n",
    "\n",
    "        #initialize tensor\n",
    "        contracted_tensor = np.empty(shape = tuple(qubit_size))\n",
    "\n",
    "        #encode matrix data\n",
    "        # start_nested_loop = time.time()\n",
    "        it = np.nditer(matrix, flags=['multi_index'])\n",
    "        for _ in it:\n",
    "            contracted_tensor[encoding_map[it.multi_index]] = matrix[it.multi_index]\n",
    "        \n",
    "        # nested_loop_time = time.time() - start_nested_loop\n",
    "        # print(f\"Time for nested loops: {nested_loop_time:.4f} seconds\")\n",
    "        #put in MPS\n",
    "        # start_mps_creation = time.time()\n",
    "        mps = qtn.MatrixProductState.from_dense(contracted_tensor, dims = tuple(qubit_size))\n",
    "        # mps_creation_time = time.time() - start_mps_creation\n",
    "        # print(f\"Time to create MPS from dense tensor: {mps_creation_time:.4f} seconds\")\n",
    "        #return class\n",
    "        return cls(mps, qubit_size, encoding_map, norm, mode, np.min(matrix), np.max(matrix))\n",
    "\n",
    "    # @time_function\n",
    "    def compression_ratio(self):\n",
    "        initial_N = np.prod(self.qubit_size)\n",
    "        compressed_N = self.number_elements_in_MPS()\n",
    "        # TODO: also implement the compression rate in bits / bits\n",
    "        return compressed_N / initial_N\n",
    "        \n",
    "    # @time_function\n",
    "    def compress(self, cutoff):\n",
    "        \"\"\"\n",
    "        Compresses a Matrix Product State (MPS) by cutting bonds with a relative cutoff value.\n",
    "        Arguments:\n",
    "            cutoff (float): The relative cutoff value to use for bond compression.\n",
    "        Returns:\n",
    "            None\n",
    "        \"\"\"\n",
    "        size = len(self.mps.sites)\n",
    "        for i in np.arange(1, size):\n",
    "            t1 = self.mps[i-1] # Tensor 1\n",
    "            t2 = self.mps[i] # Tensor 2\n",
    "            # Compress bond according to percentage * bond dimension\n",
    "            qtn.tensor_compress_bond(t1, t2, cutoff = cutoff, cutoff_mode = \"rel\") \n",
    "    def continuous_compress(self, cutoff, print_ratio = True):\n",
    "        compress_list = np.array([0.01, 0.05, 0.1, 0.2, 0.5, 0.8, 1]) * cutoff\n",
    "        for c in compress_list:\n",
    "            self.compress(c)\n",
    "            if print_ratio:\n",
    "                print(f\"Compression ratio at {c}: {self.compression_ratio()}\")\n",
    "\n",
    "\n",
    "    # @time_function\n",
    "    def number_elements_in_MPS(self):\n",
    "        \"\"\"\n",
    "        Returns the number of tensor elements in the quimb MPS.\n",
    "        Parameters:\n",
    "            mps: quimb MatrixProductState object\n",
    "        Returns:\n",
    "            int: The total number of tensor elements in the MPS.\"\"\"\n",
    "        return sum(t.size for t in self.mps)\n",
    "    \n",
    "    # @time_function\n",
    "    def mps_to_matrix(self):\n",
    "        \"\"\"\n",
    "        Converts the compressed Matrix Product State (MPS) representation back to an image matrix.\n",
    "        Arguments:\n",
    "            None\n",
    "        Returns:\n",
    "            Compressed matrix\n",
    "        \"\"\"\n",
    "\n",
    "        #conract mps\n",
    "        contracted_mps = self.mps ^ ...\n",
    "\n",
    "        #order tensor legs back\n",
    "        for i in np.arange(len(contracted_mps.inds)):\n",
    "            contracted_mps.moveindex(\"k\"+str(i), i, inplace=True)\n",
    "        \n",
    "        #return in correct format\n",
    "\n",
    "        recovered_tensor = np.empty(self.encoding_map.shape)\n",
    "        it = np.nditer(recovered_tensor, flags=['multi_index'])\n",
    "        for _ in it:\n",
    "            recovered_tensor[it.multi_index] = contracted_mps.data[self.encoding_map[it.multi_index]]\n",
    "        \n",
    "        if self.mode == \"Std\":\n",
    "            return recovered_tensor\n",
    "        elif self.mode == \"DCT\":\n",
    "            return idct(recovered_tensor, norm = \"ortho\")\n",
    "        \"\"\"\n",
    "        -----\n",
    "        legacy code for images\n",
    "        if self.mode == \"Std\":\n",
    "            img = [\n",
    "            [contracted_mps.data[self.encoding_map[i,j]] for j in range(self.encoding_map.shape[1])] for i in range(self.encoding_map.shape[0])\n",
    "        ]\n",
    "            return rescale_image(img)\n",
    "\n",
    "        elif self.mode == \"DCT\":\n",
    "            img = idct([\n",
    "                [contracted_mps.data[self.encoding_map[i,j]] \\\n",
    "                for j in range(self.encoding_map.shape[1])] for i in range(self.encoding_map.shape[0])\n",
    "            ], norm = \"ortho\")\n",
    "            return rescale_image(img)\"\"\"\n",
    "\n"
   ]
  },
  {
   "cell_type": "code",
   "execution_count": 9,
   "metadata": {},
   "outputs": [
    {
     "name": "stdout",
     "output_type": "stream",
     "text": [
      "[[4 4 2 6]\n",
      " [4 4 2 3]\n",
      " [4 2 5 3]]\n",
      "[[4 2 5 3]\n",
      " [4 4 2 3]]\n",
      "[[16  8 10  9]\n",
      " [ 4  2  5  3]]\n"
     ]
    }
   ],
   "source": [
    "print(block_sizes)\n",
    "print(block_sizes[-1:0:-1])\n",
    "print(np.cumprod(block_sizes[-1:0:-1], axis =0)[::-1])"
   ]
  },
  {
   "cell_type": "code",
   "execution_count": 10,
   "metadata": {},
   "outputs": [
    {
     "data": {
      "text/plain": [
       "array([[1, 1, 1, 1],\n",
       "       [1, 1, 1, 1],\n",
       "       [1, 1, 1, 1],\n",
       "       [1, 1, 1, 1]])"
      ]
     },
     "execution_count": 10,
     "metadata": {},
     "output_type": "execute_result"
    }
   ],
   "source": [
    "np.ones((len(block_sizes)+1, len(block_sizes[0])), dtype = int)"
   ]
  },
  {
   "cell_type": "code",
   "execution_count": null,
   "metadata": {},
   "outputs": [],
   "source": [
    " \n",
    "\n",
    "def time_function(func):\n",
    "    def wrapper(*args, **kwargs):\n",
    "        start_time = time.time()\n",
    "        result = func(*args, **kwargs)\n",
    "        elapsed_time = time.time() - start_time\n",
    "        print(f\"Time to run {func.__name__}: {elapsed_time:.8f} seconds\")\n",
    "        return result\n",
    "    return wrapper\n",
    "\n",
    "@time_function\n",
    "def get_factorlist(shape):\n",
    "    # todo rename to actually get_block_sizes\n",
    "    factor_lists = []\n",
    "    for dim_size in shape:\n",
    "        if dim_size == 1:\n",
    "            # Handle dimension of size 1 by assigning a factor of 1\n",
    "            factors = [1]\n",
    "        else:\n",
    "            factors_dict = factorint(dim_size)\n",
    "            # Extract prime factors and repeat them according to their exponents\n",
    "            factors = []\n",
    "            for prime, exponent in sorted(factors_dict.items()):\n",
    "                factors.extend([prime] * exponent)\n",
    "        # Sort the factors in ascending order\n",
    "        factors_sorted = sorted(factors)\n",
    "        factor_lists.append(factors_sorted)\n",
    "    \n",
    "    # Step 2: Balancing the number of factors across all dimensions\n",
    "    # Determine the minimum number of factors among all dimensions\n",
    "    min_factors = min(len(factors) for factors in factor_lists)\n",
    "    \n",
    "    # Balance factors by grouping the smallest factors in dimensions with more factors\n",
    "    for idx, factors in enumerate(factor_lists):\n",
    "        if len(factors) > min_factors:\n",
    "            factor_lists[idx] = balance_factors(factors, min_factors)\n",
    "        elif len(factors) < min_factors:\n",
    "            # If a dimension has fewer factors, pad with 1s to reach min_factors\n",
    "            # This effectively treats missing factors as trivial\n",
    "            factor_lists[idx].extend([1] * (min_factors - len(factors)))\n",
    "            factor_lists[idx] = sorted(factor_lists[idx])\n",
    "        # If equal, do nothing\n",
    "    for idx, list in enumerate(factor_lists):\n",
    "        if idx%2 == 1:\n",
    "            factor_lists[idx] = factor_lists[idx][::-1] \n",
    "\n",
    "    factor_lists = np.array(factor_lists).T\n",
    "    prod_block_sizes = np.ones((len(factor_lists)+1, len(factor_lists[0])), dtype = int)\n",
    "    prod_block_sizes[1:-1] = np.cumprod(factor_lists[-1:0:-1], axis =0)[::-1]\n",
    "    prod_block_sizes[0] = prod_block_sizes[0] * 1e100\n",
    "\n",
    "    return factor_lists, prod_block_sizes\n",
    "\n",
    "@time_function\n",
    "def hierarchical_block_indexing(index, prod_block_sizes):\n",
    "    return np.floor(np.mod(index, prod_block_sizes[:-1])/prod_block_sizes[1:])\n",
    "\n",
    "@time_function\n",
    "def hierarchical_block_indexing_old(index, shape, block_sizes):\n",
    "    num_levels = len(block_sizes)\n",
    "    dim = len(index)\n",
    "    # important only insert numpy arrays\n",
    "    hierarchical_indices = np.zeros((num_levels, dim))\n",
    "    for level in range(num_levels):\n",
    "        if level == 0:\n",
    "            hierarchical_indices[0] = (np.floor(index/np.prod(block_sizes[1:], axis=0)))\n",
    "        elif level == num_levels-1:\n",
    "            hierarchical_indices[level] = (np.floor(np.mod(index, block_sizes[-1])))\n",
    "        else:\n",
    "            hierarchical_indices[level]= (np.floor(np.mod(index, np.prod(block_sizes[level:], axis=0))/np.prod(block_sizes[level+1:], axis=0)))\n",
    "    return hierarchical_indices\n",
    "\n",
    "@time_function\n",
    "def flatten_index(index, block_shape):\n",
    "    \"\"\"\n",
    "    Converts a multi-dimensional index into a flattened index using row-major order (C-style).\n",
    "    \n",
    "    Parameters:\n",
    "    - index: tuple of indices (i1, i2, ..., id)\n",
    "    - block_shape: tuple representing the shape of the block (B1, B2, ..., Bd)\n",
    "    \n",
    "    Returns:\n",
    "    - Flattened index (int)\n",
    "    \"\"\"\n",
    "    if len(index) != len(block_shape):\n",
    "        raise ValueError(\"Index and block shape must have the same number of dimensions.\")\n",
    "    \n",
    "    # Compute the flattened index using numpy's ravel_multi_index equivalent logic\n",
    "    flattened_index = sum(index[k] * np.prod(block_shape[k+1:]) for k in range(len(index)))\n",
    "    \n",
    "    return flattened_index.astype(int)\n",
    "\n",
    "@time_function\n",
    "def return_flattened_idices(hierarchical_index, block_sizes):\n",
    "    ids = np.empty(len(block_sizes))\n",
    "    for i in range(len(block_sizes)):\n",
    "        ids[i] = flatten_index(hierarchical_index[i], block_sizes[i])\n",
    "    return ids\n",
    "\n",
    "@time_function\n",
    "def stdId_to_hierarchical_index(stdId, shape, block_sizes):\n",
    "    hier_ind = hierarchical_block_indexing(stdId, shape, block_sizes)\n",
    "    return return_flattened_idices(hier_ind, block_sizes)\n",
    "\n",
    "class NDMPS:\n",
    "    def __init__(self, mps=None, qubit_size=None, norm=True, mode=\"Std\", min_value = 0, max_value = 1):\n",
    "        self.qubit_size = qubit_size\n",
    "        self.mps = mps\n",
    "        self.norm = norm #Normalize matrix data\n",
    "        #Compression mode \n",
    "        # \"Std\" standard Block Encoding\n",
    "        # \"DCT\" discrete cosine fourier transform before compression\n",
    "        self.mode = mode \n",
    "        self.min_value = min_value\n",
    "        self.max_value = max_value\n",
    "    \n",
    "    @classmethod\n",
    "    # @time_function\n",
    "    def from_matrix(cls, matrix, norm = False, mode = \"Std\"):\n",
    "        shape = matrix.shape\n",
    "        qubit_size = np.prod(get_factorlist(shape), axis =1)\n",
    "        block_sizes = get_factorlist(shape)\n",
    "\n",
    "        #check for flags\n",
    "        if norm:\n",
    "            matrix = matrix / (np.linalg.norm(matrix))\n",
    "        if mode == \"DCT\":\n",
    "            matrix = dct(matrix, norm = \"ortho\")\n",
    "\n",
    "        #initialize tensor\n",
    "        contracted_tensor = np.empty(shape = tuple(qubit_size))\n",
    "\n",
    "        #encode matrix data\n",
    "        # start_nested_loop = time.time()\n",
    "        it = np.nditer(matrix, flags=['multi_index'])\n",
    "        for _ in it:\n",
    "            contracted_tensor[tuple(stdId_to_hierarchical_index(it.multi_index, shape, block_sizes))] = matrix[it.multi_index]\n",
    "        \n",
    "        # nested_loop_time = time.time() - start_nested_loop\n",
    "        # print(f\"Time for nested loops: {nested_loop_time:.4f} seconds\")\n",
    "        #put in MPS\n",
    "        # start_mps_creation = time.time()\n",
    "        mps = qtn.MatrixProductState.from_dense(contracted_tensor, dims = tuple(qubit_size))\n",
    "        # mps_creation_time = time.time() - start_mps_creation\n",
    "        # print(f\"Time to create MPS from dense tensor: {mps_creation_time:.4f} seconds\")\n",
    "        #return class\n",
    "        return cls(mps, qubit_size, norm, mode, np.min(matrix), np.max(matrix))\n",
    "\n",
    "    # @time_function\n",
    "    def compression_ratio(self):\n",
    "        initial_N = np.prod(self.qubit_size)\n",
    "        compressed_N = self.number_elements_in_MPS()\n",
    "        # TODO: also implement the compression rate in bits / bits\n",
    "        return compressed_N / initial_N\n",
    "        \n",
    "    # @time_function\n",
    "    def compress(self, cutoff):\n",
    "        \"\"\"\n",
    "        Compresses a Matrix Product State (MPS) by cutting bonds with a relative cutoff value.\n",
    "        Arguments:\n",
    "            cutoff (float): The relative cutoff value to use for bond compression.\n",
    "        Returns:\n",
    "            None\n",
    "        \"\"\"\n",
    "        size = len(self.mps.sites)\n",
    "        for i in np.arange(1, size):\n",
    "            t1 = self.mps[i-1] # Tensor 1\n",
    "            t2 = self.mps[i] # Tensor 2\n",
    "            # Compress bond according to percentage * bond dimension\n",
    "            qtn.tensor_compress_bond(t1, t2, cutoff = cutoff, cutoff_mode = \"rel\") \n",
    "    def continuous_compress(self, cutoff, print_ratio = True):\n",
    "        compress_list = np.array([0.01, 0.05, 0.1, 0.2, 0.5, 0.8, 1]) * cutoff\n",
    "        for c in compress_list:\n",
    "            self.compress(c)\n",
    "            if print_ratio:\n",
    "                print(f\"Compression ratio at {c}: {self.compression_ratio()}\")\n",
    "\n",
    "\n",
    "    # @time_function\n",
    "    def number_elements_in_MPS(self):\n",
    "        \"\"\"\n",
    "        Returns the number of tensor elements in the quimb MPS.\n",
    "        Parameters:\n",
    "            mps: quimb MatrixProductState object\n",
    "        Returns:\n",
    "            int: The total number of tensor elements in the MPS.\"\"\"\n",
    "        return sum(t.size for t in self.mps)\n",
    "    \n",
    "    # @time_function\n",
    "    def mps_to_matrix(self):\n",
    "        \"\"\"\n",
    "        Converts the compressed Matrix Product State (MPS) representation back to an image matrix.\n",
    "        Arguments:\n",
    "            None\n",
    "        Returns:\n",
    "            Compressed matrix\n",
    "        \"\"\"\n",
    "\n",
    "        #conract mps\n",
    "        contracted_mps = self.mps ^ ...\n",
    "\n",
    "        #order tensor legs back\n",
    "        for i in np.arange(len(contracted_mps.inds)):\n",
    "            contracted_mps.moveindex(\"k\"+str(i), i, inplace=True)\n",
    "        \n",
    "        #return in correct format\n",
    "\n",
    "        recovered_tensor = np.empty(self.encoding_map.shape)\n",
    "        it = np.nditer(recovered_tensor, flags=['multi_index'])\n",
    "        for _ in it:\n",
    "            recovered_tensor[it.multi_index] = contracted_mps.data[self.encoding_map[it.multi_index]]\n",
    "        \n",
    "        if self.mode == \"Std\":\n",
    "            return recovered_tensor\n",
    "        elif self.mode == \"DCT\":\n",
    "            return idct(recovered_tensor, norm = \"ortho\")\n",
    "        \"\"\"\n",
    "        -----\n",
    "        legacy code for images\n",
    "        if self.mode == \"Std\":\n",
    "            img = [\n",
    "            [contracted_mps.data[self.encoding_map[i,j]] for j in range(self.encoding_map.shape[1])] for i in range(self.encoding_map.shape[0])\n",
    "        ]\n",
    "            return rescale_image(img)\n",
    "\n",
    "        elif self.mode == \"DCT\":\n",
    "            img = idct([\n",
    "                [contracted_mps.data[self.encoding_map[i,j]] \\\n",
    "                for j in range(self.encoding_map.shape[1])] for i in range(self.encoding_map.shape[0])\n",
    "            ], norm = \"ortho\")\n",
    "            return rescale_image(img)\"\"\""
   ]
  },
  {
   "cell_type": "code",
   "execution_count": 12,
   "metadata": {},
   "outputs": [
    {
     "name": "stdout",
     "output_type": "stream",
     "text": [
      "Time to run get_factorlist: 0.00027704 seconds\n",
      "Time to run hierarchical_block_indexing_old: 0.00007033 seconds\n",
      "Time to run flatten_index: 0.00003099 seconds\n",
      "Time to run flatten_index: 0.00001597 seconds\n",
      "Time to run flatten_index: 0.00001311 seconds\n",
      "Time to run flatten_index: 0.00001287 seconds\n",
      "Time to run return_flattened_idices: 0.00010276 seconds\n",
      "[[1. 2. 0.]\n",
      " [1. 0. 1.]\n",
      " [0. 1. 4.]\n",
      " [0. 1. 1.]]\n",
      "[14.  9.  9. 12.]\n"
     ]
    },
    {
     "name": "stderr",
     "output_type": "stream",
     "text": [
      "/var/folders/2k/n_pr2lyj52ggrhmgv2zx_jt40000gn/T/ipykernel_6316/85896759.py:56: RuntimeWarning: invalid value encountered in cast\n",
      "  prod_block_sizes[0] = prod_block_sizes[0] * 1e100\n"
     ]
    }
   ],
   "source": [
    "shape = (240,240,220)\n",
    "block_sizes, prod_blocks = get_factorlist(shape)\n",
    "index = (100, 100,100)\n",
    "hierarchical_index = hierarchical_block_indexing_old(index, shape, block_sizes)\n",
    "flatten_ind = return_flattened_idices(hierarchical_index, block_sizes)\n",
    "print(hierarchical_index)\n",
    "print(flatten_ind)"
   ]
  },
  {
   "cell_type": "code",
   "execution_count": 64,
   "metadata": {},
   "outputs": [],
   "source": [
    "def get_factorlist(shape):\n",
    "    # todo rename to actually get_block_sizes\n",
    "    factor_lists = []\n",
    "    for dim_size in shape:\n",
    "        if dim_size == 1:\n",
    "            # Handle dimension of size 1 by assigning a factor of 1\n",
    "            factors = [1]\n",
    "        else:\n",
    "            factors_dict = factorint(dim_size)\n",
    "            # Extract prime factors and repeat them according to their exponents\n",
    "            factors = []\n",
    "            for prime, exponent in sorted(factors_dict.items()):\n",
    "                factors.extend([prime] * exponent)\n",
    "        # Sort the factors in ascending order\n",
    "        factors_sorted = sorted(factors)\n",
    "        factor_lists.append(factors_sorted)\n",
    "    \n",
    "    # Step 2: Balancing the number of factors across all dimensions\n",
    "    # Determine the minimum number of factors among all dimensions\n",
    "    min_factors = min(len(factors) for factors in factor_lists)\n",
    "    \n",
    "    # Balance factors by grouping the smallest factors in dimensions with more factors\n",
    "    for idx, factors in enumerate(factor_lists):\n",
    "        if len(factors) > min_factors:\n",
    "            factor_lists[idx] = balance_factors(factors, min_factors)\n",
    "        elif len(factors) < min_factors:\n",
    "            # If a dimension has fewer factors, pad with 1s to reach min_factors\n",
    "            # This effectively treats missing factors as trivial\n",
    "            factor_lists[idx].extend([1] * (min_factors - len(factors)))\n",
    "            factor_lists[idx] = sorted(factor_lists[idx])\n",
    "        # If equal, do nothing\n",
    "    for idx, list in enumerate(factor_lists):\n",
    "        if idx%2 == 1:\n",
    "            factor_lists[idx] = factor_lists[idx][::-1] \n",
    "\n",
    "    factor_lists = np.array(factor_lists).T\n",
    "    prod_block_sizes = np.ones((len(factor_lists)+1, len(factor_lists[0])), dtype = int)\n",
    "    prod_block_sizes[1:-1] = np.cumprod(factor_lists[-1:0:-1], axis =0)[::-1]\n",
    "    prod_block_sizes[0] = prod_block_sizes[0] * 1e100\n",
    "\n",
    "    return factor_lists, prod_block_sizes\n",
    "\n",
    "@time_function\n",
    "def hierarchical_block_indexing(index, prod_block_sizes):\n",
    "    return np.floor(np.mod(index.reshape([1]+list(index.shape)), prod_block_sizes[:-1].reshape(list(prod_block_sizes[:-1].shape)+[1]*(prod_block_sizes.shape[1])))/prod_block_sizes[1:].reshape(list(prod_block_sizes[1:].shape)+[1]*(prod_block_sizes.shape[1]))).astype(int)\n",
    "\n",
    "def gen_encoding_map(shape):\n",
    "    dim = len(shape)\n",
    "    block_sizes, prod_blocks = get_factorlist(shape)\n",
    "    indices_all = np.indices(shape)\n",
    "    mapped_indexes = hierarchical_block_indexing(indices_all, prod_blocks)\n",
    "    final_map = np.empty([len(block_sizes)]+list(shape))\n",
    "    for i in range(len(block_sizes)):\n",
    "        final_map[i] = np.ravel_multi_index(mapped_indexes[i], block_sizes[i])\n",
    "    return np.prod(block_sizes, axis= 1), final_map.astype(int)"
   ]
  },
  {
   "cell_type": "code",
   "execution_count": 14,
   "metadata": {},
   "outputs": [],
   "source": [
    "indices_all = np.indices(shape)"
   ]
  },
  {
   "cell_type": "code",
   "execution_count": 15,
   "metadata": {},
   "outputs": [
    {
     "name": "stdout",
     "output_type": "stream",
     "text": [
      "Time to run hierarchical_block_indexing: 1.16085100 seconds\n"
     ]
    }
   ],
   "source": [
    "mapped_indexes = hierarchical_block_indexing(indices_all, prod_blocks)"
   ]
  },
  {
   "cell_type": "code",
   "execution_count": 16,
   "metadata": {},
   "outputs": [
    {
     "data": {
      "text/plain": [
       "(4, 3, 240, 240, 220)"
      ]
     },
     "execution_count": 16,
     "metadata": {},
     "output_type": "execute_result"
    }
   ],
   "source": [
    "mapped_indexes.shape"
   ]
  },
  {
   "cell_type": "code",
   "execution_count": 17,
   "metadata": {},
   "outputs": [
    {
     "name": "stderr",
     "output_type": "stream",
     "text": [
      "/var/folders/2k/n_pr2lyj52ggrhmgv2zx_jt40000gn/T/ipykernel_6316/2243089732.py:39: RuntimeWarning: invalid value encountered in cast\n",
      "  prod_block_sizes[0] = prod_block_sizes[0] * 1e100\n"
     ]
    }
   ],
   "source": [
    "block_sizes, prod_blocks = get_factorlist((240,240,220))"
   ]
  },
  {
   "cell_type": "code",
   "execution_count": 18,
   "metadata": {},
   "outputs": [
    {
     "data": {
      "text/plain": [
       "array([ 30,  32,  80, 165])"
      ]
     },
     "execution_count": 18,
     "metadata": {},
     "output_type": "execute_result"
    }
   ],
   "source": [
    "np.prod(block_sizes, axis =1)"
   ]
  },
  {
   "cell_type": "code",
   "execution_count": 21,
   "metadata": {},
   "outputs": [],
   "source": [
    "qubit_size, kron = get_block_encoding_map_general((240,240,220))"
   ]
  },
  {
   "cell_type": "code",
   "execution_count": 22,
   "metadata": {},
   "outputs": [
    {
     "name": "stderr",
     "output_type": "stream",
     "text": [
      "/var/folders/2k/n_pr2lyj52ggrhmgv2zx_jt40000gn/T/ipykernel_6316/2243089732.py:39: RuntimeWarning: invalid value encountered in cast\n",
      "  prod_block_sizes[0] = prod_block_sizes[0] * 1e100\n"
     ]
    },
    {
     "name": "stdout",
     "output_type": "stream",
     "text": [
      "Time to run hierarchical_block_indexing: 1.23170495 seconds\n"
     ]
    }
   ],
   "source": [
    "fin_map = gen_encoding_map((240,240,220))"
   ]
  },
  {
   "cell_type": "code",
   "execution_count": 23,
   "metadata": {},
   "outputs": [
    {
     "ename": "AttributeError",
     "evalue": "'tuple' object has no attribute 'shape'",
     "output_type": "error",
     "traceback": [
      "\u001b[0;31m---------------------------------------------------------------------------\u001b[0m",
      "\u001b[0;31mAttributeError\u001b[0m                            Traceback (most recent call last)",
      "Cell \u001b[0;32mIn[23], line 1\u001b[0m\n\u001b[0;32m----> 1\u001b[0m \u001b[43mfin_map\u001b[49m\u001b[38;5;241;43m.\u001b[39;49m\u001b[43mshape\u001b[49m\n",
      "\u001b[0;31mAttributeError\u001b[0m: 'tuple' object has no attribute 'shape'"
     ]
    }
   ],
   "source": [
    "fin_map.shape"
   ]
  },
  {
   "cell_type": "code",
   "execution_count": 24,
   "metadata": {},
   "outputs": [
    {
     "ename": "TypeError",
     "evalue": "tuple indices must be integers or slices, not tuple",
     "output_type": "error",
     "traceback": [
      "\u001b[0;31m---------------------------------------------------------------------------\u001b[0m",
      "\u001b[0;31mTypeError\u001b[0m                                 Traceback (most recent call last)",
      "Cell \u001b[0;32mIn[24], line 1\u001b[0m\n\u001b[0;32m----> 1\u001b[0m \u001b[43mfin_map\u001b[49m\u001b[43m[\u001b[49m\u001b[43m:\u001b[49m\u001b[43m,\u001b[49m\u001b[43m \u001b[49m\u001b[38;5;241;43m100\u001b[39;49m\u001b[43m,\u001b[49m\u001b[38;5;241;43m100\u001b[39;49m\u001b[43m,\u001b[49m\u001b[38;5;241;43m100\u001b[39;49m\u001b[43m]\u001b[49m\n",
      "\u001b[0;31mTypeError\u001b[0m: tuple indices must be integers or slices, not tuple"
     ]
    }
   ],
   "source": [
    "fin_map[:, 100,100,100]"
   ]
  },
  {
   "cell_type": "code",
   "execution_count": 25,
   "metadata": {},
   "outputs": [
    {
     "ename": "ValueError",
     "evalue": "setting an array element with a sequence. The requested array has an inhomogeneous shape after 2 dimensions. The detected shape was (2, 4) + inhomogeneous part.",
     "output_type": "error",
     "traceback": [
      "\u001b[0;31m---------------------------------------------------------------------------\u001b[0m",
      "\u001b[0;31mAttributeError\u001b[0m                            Traceback (most recent call last)",
      "File \u001b[0;32m~/miniconda3/envs/QEL/lib/python3.10/site-packages/numpy/_core/numeric.py:1488\u001b[0m, in \u001b[0;36mmoveaxis\u001b[0;34m(a, source, destination)\u001b[0m\n\u001b[1;32m   1486\u001b[0m \u001b[38;5;28;01mtry\u001b[39;00m:\n\u001b[1;32m   1487\u001b[0m     \u001b[38;5;66;03m# allow duck-array types if they define transpose\u001b[39;00m\n\u001b[0;32m-> 1488\u001b[0m     transpose \u001b[38;5;241m=\u001b[39m \u001b[43ma\u001b[49m\u001b[38;5;241;43m.\u001b[39;49m\u001b[43mtranspose\u001b[49m\n\u001b[1;32m   1489\u001b[0m \u001b[38;5;28;01mexcept\u001b[39;00m \u001b[38;5;167;01mAttributeError\u001b[39;00m:\n",
      "\u001b[0;31mAttributeError\u001b[0m: 'tuple' object has no attribute 'transpose'",
      "\nDuring handling of the above exception, another exception occurred:\n",
      "\u001b[0;31mValueError\u001b[0m                                Traceback (most recent call last)",
      "Cell \u001b[0;32mIn[25], line 1\u001b[0m\n\u001b[0;32m----> 1\u001b[0m fin_map_moved \u001b[38;5;241m=\u001b[39m \u001b[43mnp\u001b[49m\u001b[38;5;241;43m.\u001b[39;49m\u001b[43mmoveaxis\u001b[49m\u001b[43m(\u001b[49m\u001b[43mfin_map\u001b[49m\u001b[43m,\u001b[49m\u001b[43m \u001b[49m\u001b[38;5;241;43m0\u001b[39;49m\u001b[43m,\u001b[49m\u001b[43m \u001b[49m\u001b[38;5;241;43m-\u001b[39;49m\u001b[38;5;241;43m1\u001b[39;49m\u001b[43m)\u001b[49m\n",
      "File \u001b[0;32m~/miniconda3/envs/QEL/lib/python3.10/site-packages/numpy/_core/numeric.py:1490\u001b[0m, in \u001b[0;36mmoveaxis\u001b[0;34m(a, source, destination)\u001b[0m\n\u001b[1;32m   1488\u001b[0m     transpose \u001b[38;5;241m=\u001b[39m a\u001b[38;5;241m.\u001b[39mtranspose\n\u001b[1;32m   1489\u001b[0m \u001b[38;5;28;01mexcept\u001b[39;00m \u001b[38;5;167;01mAttributeError\u001b[39;00m:\n\u001b[0;32m-> 1490\u001b[0m     a \u001b[38;5;241m=\u001b[39m \u001b[43masarray\u001b[49m\u001b[43m(\u001b[49m\u001b[43ma\u001b[49m\u001b[43m)\u001b[49m\n\u001b[1;32m   1491\u001b[0m     transpose \u001b[38;5;241m=\u001b[39m a\u001b[38;5;241m.\u001b[39mtranspose\n\u001b[1;32m   1493\u001b[0m source \u001b[38;5;241m=\u001b[39m normalize_axis_tuple(source, a\u001b[38;5;241m.\u001b[39mndim, \u001b[38;5;124m'\u001b[39m\u001b[38;5;124msource\u001b[39m\u001b[38;5;124m'\u001b[39m)\n",
      "\u001b[0;31mValueError\u001b[0m: setting an array element with a sequence. The requested array has an inhomogeneous shape after 2 dimensions. The detected shape was (2, 4) + inhomogeneous part."
     ]
    }
   ],
   "source": [
    "fin_map_moved = np.moveaxis(fin_map, 0, -1)"
   ]
  },
  {
   "cell_type": "code",
   "execution_count": 29,
   "metadata": {},
   "outputs": [
    {
     "data": {
      "text/plain": [
       "(240, 240, 220, 4)"
      ]
     },
     "execution_count": 29,
     "metadata": {},
     "output_type": "execute_result"
    }
   ],
   "source": [
    "fin_map_moved.shape"
   ]
  },
  {
   "cell_type": "code",
   "execution_count": 33,
   "metadata": {},
   "outputs": [
    {
     "data": {
      "text/plain": [
       "array([14.,  9.,  9., 12.])"
      ]
     },
     "execution_count": 33,
     "metadata": {},
     "output_type": "execute_result"
    }
   ],
   "source": [
    "fin_map_moved[100,100,100]"
   ]
  },
  {
   "cell_type": "code",
   "execution_count": 65,
   "metadata": {},
   "outputs": [],
   "source": [
    "class NDMPS_new:\n",
    "    def __init__(self, mps=None, qubit_size=None, encoding_map=None, norm=True, mode=\"Std\", min_value = 0, max_value = 1):\n",
    "        self.qubit_size = qubit_size\n",
    "        self.encoding_map = encoding_map\n",
    "        self.mps = mps\n",
    "        self.norm = norm #Normalize matrix data\n",
    "        #Compression mode \n",
    "        # \"Std\" standard Block Encoding\n",
    "        # \"DCT\" discrete cosine fourier transform before compression\n",
    "        self.mode = mode \n",
    "        self.min_value = min_value\n",
    "        self.max_value = max_value\n",
    "    \n",
    "    @classmethod\n",
    "    # @time_function\n",
    "    def from_matrix(cls, matrix, norm = False, mode = \"Std\"):\n",
    "        qubit_size, encoding_map = gen_encoding_map(matrix.shape)\n",
    "        encoding_map = np.moveaxis(encoding_map, 0, -1)\n",
    "\n",
    "        #check for flags\n",
    "        if norm:\n",
    "            matrix = matrix / (np.linalg.norm(matrix))\n",
    "        if mode == \"DCT\":\n",
    "            matrix = dct(matrix, norm = \"ortho\")\n",
    "\n",
    "        #initialize tensor\n",
    "        contracted_tensor = np.empty(shape = tuple(qubit_size))\n",
    "\n",
    "\n",
    "        #encode matrix data\n",
    "        # start_nested_loop = time.time()\n",
    "        it = np.nditer(matrix, flags=['multi_index'])\n",
    "        for _ in it:\n",
    "            contracted_tensor[tuple(encoding_map[it.multi_index])] = matrix[it.multi_index]\n",
    "        \n",
    "        # nested_loop_time = time.time() - start_nested_loop\n",
    "        # print(f\"Time for nested loops: {nested_loop_time:.4f} seconds\")\n",
    "        #put in MPS\n",
    "        # start_mps_creation = time.time()\n",
    "        mps = qtn.MatrixProductState.from_dense(contracted_tensor, dims = tuple(qubit_size))\n",
    "        # mps_creation_time = time.time() - start_mps_creation\n",
    "        # print(f\"Time to create MPS from dense tensor: {mps_creation_time:.4f} seconds\")\n",
    "        #return class\n",
    "        return cls(mps, qubit_size, encoding_map, norm, mode, np.min(matrix), np.max(matrix))\n",
    "\n",
    "    # @time_function\n",
    "    def compression_ratio(self):\n",
    "        initial_N = np.prod(self.qubit_size)\n",
    "        compressed_N = self.number_elements_in_MPS()\n",
    "        # TODO: also implement the compression rate in bits / bits\n",
    "        return compressed_N / initial_N\n",
    "        \n",
    "    # @time_function\n",
    "    def compress(self, cutoff):\n",
    "        \"\"\"\n",
    "        Compresses a Matrix Product State (MPS) by cutting bonds with a relative cutoff value.\n",
    "        Arguments:\n",
    "            cutoff (float): The relative cutoff value to use for bond compression.\n",
    "        Returns:\n",
    "            None\n",
    "        \"\"\"\n",
    "        size = len(self.mps.sites)\n",
    "        for i in np.arange(1, size):\n",
    "            t1 = self.mps[i-1] # Tensor 1\n",
    "            t2 = self.mps[i] # Tensor 2\n",
    "            # Compress bond according to percentage * bond dimension\n",
    "            qtn.tensor_compress_bond(t1, t2, cutoff = cutoff, cutoff_mode = \"rel\") \n",
    "    def continuous_compress(self, cutoff, print_ratio = True):\n",
    "        compress_list = np.array([0.01, 0.05, 0.1, 0.2, 0.5, 0.8, 1]) * cutoff\n",
    "        for c in compress_list:\n",
    "            self.compress(c)\n",
    "            if print_ratio:\n",
    "                print(f\"Compression ratio at {c}: {self.compression_ratio()}\")\n",
    "\n",
    "\n",
    "    # @time_function\n",
    "    def number_elements_in_MPS(self):\n",
    "        \"\"\"\n",
    "        Returns the number of tensor elements in the quimb MPS.\n",
    "        Parameters:\n",
    "            mps: quimb MatrixProductState object\n",
    "        Returns:\n",
    "            int: The total number of tensor elements in the MPS.\"\"\"\n",
    "        return sum(t.size for t in self.mps)\n",
    "    \n",
    "    # @time_function\n",
    "    def mps_to_matrix(self):\n",
    "        \"\"\"\n",
    "        Converts the compressed Matrix Product State (MPS) representation back to an image matrix.\n",
    "        Arguments:\n",
    "            None\n",
    "        Returns:\n",
    "            Compressed matrix\n",
    "        \"\"\"\n",
    "\n",
    "        #conract mps\n",
    "        contracted_mps = self.mps ^ ...\n",
    "\n",
    "        #order tensor legs back\n",
    "        for i in np.arange(len(contracted_mps.inds)):\n",
    "            contracted_mps.moveindex(\"k\"+str(i), i, inplace=True)\n",
    "        \n",
    "        #return in correct format\n",
    "\n",
    "        recovered_tensor = np.empty(self.encoding_map.shape)\n",
    "        it = np.nditer(recovered_tensor, flags=['multi_index'])\n",
    "        for _ in it:\n",
    "            recovered_tensor[it.multi_index] = contracted_mps.data[self.encoding_map[it.multi_index]]\n",
    "        \n",
    "        if self.mode == \"Std\":\n",
    "            return recovered_tensor\n",
    "        elif self.mode == \"DCT\":\n",
    "            return idct(recovered_tensor, norm = \"ortho\")"
   ]
  },
  {
   "cell_type": "code",
   "execution_count": 66,
   "metadata": {},
   "outputs": [],
   "source": [
    "test_tens = np.random.rand(240,240,220)"
   ]
  },
  {
   "cell_type": "code",
   "execution_count": 67,
   "metadata": {},
   "outputs": [
    {
     "data": {
      "text/plain": [
       "(240, 240, 220)"
      ]
     },
     "execution_count": 67,
     "metadata": {},
     "output_type": "execute_result"
    }
   ],
   "source": [
    "test_tens.shape"
   ]
  },
  {
   "cell_type": "code",
   "execution_count": 68,
   "metadata": {},
   "outputs": [
    {
     "name": "stderr",
     "output_type": "stream",
     "text": [
      "/var/folders/2k/n_pr2lyj52ggrhmgv2zx_jt40000gn/T/ipykernel_6316/2243089732.py:39: RuntimeWarning: invalid value encountered in cast\n",
      "  prod_block_sizes[0] = prod_block_sizes[0] * 1e100\n"
     ]
    },
    {
     "name": "stdout",
     "output_type": "stream",
     "text": [
      "Time to run hierarchical_block_indexing: 1.29798508 seconds\n"
     ]
    }
   ],
   "source": [
    "mps_test = NDMPS_new.from_matrix(test_tens)"
   ]
  },
  {
   "cell_type": "code",
   "execution_count": 70,
   "metadata": {},
   "outputs": [
    {
     "name": "stderr",
     "output_type": "stream",
     "text": [
      "/var/folders/2k/n_pr2lyj52ggrhmgv2zx_jt40000gn/T/ipykernel_6316/2243089732.py:39: RuntimeWarning: invalid value encountered in cast\n",
      "  prod_block_sizes[0] = prod_block_sizes[0] * 1e100\n"
     ]
    },
    {
     "ename": "ValueError",
     "evalue": "setting an array element with a sequence. The requested array has an inhomogeneous shape after 1 dimensions. The detected shape was (2,) + inhomogeneous part.",
     "output_type": "error",
     "traceback": [
      "\u001b[0;31m---------------------------------------------------------------------------\u001b[0m",
      "\u001b[0;31mValueError\u001b[0m                                Traceback (most recent call last)",
      "Cell \u001b[0;32mIn[70], line 1\u001b[0m\n\u001b[0;32m----> 1\u001b[0m mps_old \u001b[38;5;241m=\u001b[39m \u001b[43mNDMPS\u001b[49m\u001b[38;5;241;43m.\u001b[39;49m\u001b[43mfrom_matrix\u001b[49m\u001b[43m(\u001b[49m\u001b[43mtest_tens\u001b[49m\u001b[43m)\u001b[49m\n",
      "Cell \u001b[0;32mIn[11], line 127\u001b[0m, in \u001b[0;36mNDMPS.from_matrix\u001b[0;34m(cls, matrix, norm, mode)\u001b[0m\n\u001b[1;32m    123\u001b[0m \u001b[38;5;129m@classmethod\u001b[39m\n\u001b[1;32m    124\u001b[0m \u001b[38;5;66;03m# @time_function\u001b[39;00m\n\u001b[1;32m    125\u001b[0m \u001b[38;5;28;01mdef\u001b[39;00m \u001b[38;5;21mfrom_matrix\u001b[39m(\u001b[38;5;28mcls\u001b[39m, matrix, norm \u001b[38;5;241m=\u001b[39m \u001b[38;5;28;01mFalse\u001b[39;00m, mode \u001b[38;5;241m=\u001b[39m \u001b[38;5;124m\"\u001b[39m\u001b[38;5;124mStd\u001b[39m\u001b[38;5;124m\"\u001b[39m):\n\u001b[1;32m    126\u001b[0m     shape \u001b[38;5;241m=\u001b[39m matrix\u001b[38;5;241m.\u001b[39mshape\n\u001b[0;32m--> 127\u001b[0m     qubit_size \u001b[38;5;241m=\u001b[39m \u001b[43mnp\u001b[49m\u001b[38;5;241;43m.\u001b[39;49m\u001b[43mprod\u001b[49m\u001b[43m(\u001b[49m\u001b[43mget_factorlist\u001b[49m\u001b[43m(\u001b[49m\u001b[43mshape\u001b[49m\u001b[43m)\u001b[49m\u001b[43m,\u001b[49m\u001b[43m \u001b[49m\u001b[43maxis\u001b[49m\u001b[43m \u001b[49m\u001b[38;5;241;43m=\u001b[39;49m\u001b[38;5;241;43m1\u001b[39;49m\u001b[43m)\u001b[49m\n\u001b[1;32m    128\u001b[0m     block_sizes \u001b[38;5;241m=\u001b[39m get_factorlist(shape)\n\u001b[1;32m    130\u001b[0m     \u001b[38;5;66;03m#check for flags\u001b[39;00m\n",
      "File \u001b[0;32m~/miniconda3/envs/QEL/lib/python3.10/site-packages/numpy/_core/fromnumeric.py:3191\u001b[0m, in \u001b[0;36mprod\u001b[0;34m(a, axis, dtype, out, keepdims, initial, where)\u001b[0m\n\u001b[1;32m   3068\u001b[0m \u001b[38;5;129m@array_function_dispatch\u001b[39m(_prod_dispatcher)\n\u001b[1;32m   3069\u001b[0m \u001b[38;5;28;01mdef\u001b[39;00m \u001b[38;5;21mprod\u001b[39m(a, axis\u001b[38;5;241m=\u001b[39m\u001b[38;5;28;01mNone\u001b[39;00m, dtype\u001b[38;5;241m=\u001b[39m\u001b[38;5;28;01mNone\u001b[39;00m, out\u001b[38;5;241m=\u001b[39m\u001b[38;5;28;01mNone\u001b[39;00m, keepdims\u001b[38;5;241m=\u001b[39mnp\u001b[38;5;241m.\u001b[39m_NoValue,\n\u001b[1;32m   3070\u001b[0m          initial\u001b[38;5;241m=\u001b[39mnp\u001b[38;5;241m.\u001b[39m_NoValue, where\u001b[38;5;241m=\u001b[39mnp\u001b[38;5;241m.\u001b[39m_NoValue):\n\u001b[1;32m   3071\u001b[0m \u001b[38;5;250m    \u001b[39m\u001b[38;5;124;03m\"\"\"\u001b[39;00m\n\u001b[1;32m   3072\u001b[0m \u001b[38;5;124;03m    Return the product of array elements over a given axis.\u001b[39;00m\n\u001b[1;32m   3073\u001b[0m \n\u001b[0;32m   (...)\u001b[0m\n\u001b[1;32m   3189\u001b[0m \u001b[38;5;124;03m    10\u001b[39;00m\n\u001b[1;32m   3190\u001b[0m \u001b[38;5;124;03m    \"\"\"\u001b[39;00m\n\u001b[0;32m-> 3191\u001b[0m     \u001b[38;5;28;01mreturn\u001b[39;00m \u001b[43m_wrapreduction\u001b[49m\u001b[43m(\u001b[49m\u001b[43ma\u001b[49m\u001b[43m,\u001b[49m\u001b[43m \u001b[49m\u001b[43mnp\u001b[49m\u001b[38;5;241;43m.\u001b[39;49m\u001b[43mmultiply\u001b[49m\u001b[43m,\u001b[49m\u001b[43m \u001b[49m\u001b[38;5;124;43m'\u001b[39;49m\u001b[38;5;124;43mprod\u001b[39;49m\u001b[38;5;124;43m'\u001b[39;49m\u001b[43m,\u001b[49m\u001b[43m \u001b[49m\u001b[43maxis\u001b[49m\u001b[43m,\u001b[49m\u001b[43m \u001b[49m\u001b[43mdtype\u001b[49m\u001b[43m,\u001b[49m\u001b[43m \u001b[49m\u001b[43mout\u001b[49m\u001b[43m,\u001b[49m\n\u001b[1;32m   3192\u001b[0m \u001b[43m                          \u001b[49m\u001b[43mkeepdims\u001b[49m\u001b[38;5;241;43m=\u001b[39;49m\u001b[43mkeepdims\u001b[49m\u001b[43m,\u001b[49m\u001b[43m \u001b[49m\u001b[43minitial\u001b[49m\u001b[38;5;241;43m=\u001b[39;49m\u001b[43minitial\u001b[49m\u001b[43m,\u001b[49m\u001b[43m \u001b[49m\u001b[43mwhere\u001b[49m\u001b[38;5;241;43m=\u001b[39;49m\u001b[43mwhere\u001b[49m\u001b[43m)\u001b[49m\n",
      "File \u001b[0;32m~/miniconda3/envs/QEL/lib/python3.10/site-packages/numpy/_core/fromnumeric.py:86\u001b[0m, in \u001b[0;36m_wrapreduction\u001b[0;34m(obj, ufunc, method, axis, dtype, out, **kwargs)\u001b[0m\n\u001b[1;32m     83\u001b[0m         \u001b[38;5;28;01melse\u001b[39;00m:\n\u001b[1;32m     84\u001b[0m             \u001b[38;5;28;01mreturn\u001b[39;00m reduction(axis\u001b[38;5;241m=\u001b[39maxis, out\u001b[38;5;241m=\u001b[39mout, \u001b[38;5;241m*\u001b[39m\u001b[38;5;241m*\u001b[39mpasskwargs)\n\u001b[0;32m---> 86\u001b[0m \u001b[38;5;28;01mreturn\u001b[39;00m \u001b[43mufunc\u001b[49m\u001b[38;5;241;43m.\u001b[39;49m\u001b[43mreduce\u001b[49m\u001b[43m(\u001b[49m\u001b[43mobj\u001b[49m\u001b[43m,\u001b[49m\u001b[43m \u001b[49m\u001b[43maxis\u001b[49m\u001b[43m,\u001b[49m\u001b[43m \u001b[49m\u001b[43mdtype\u001b[49m\u001b[43m,\u001b[49m\u001b[43m \u001b[49m\u001b[43mout\u001b[49m\u001b[43m,\u001b[49m\u001b[43m \u001b[49m\u001b[38;5;241;43m*\u001b[39;49m\u001b[38;5;241;43m*\u001b[39;49m\u001b[43mpasskwargs\u001b[49m\u001b[43m)\u001b[49m\n",
      "\u001b[0;31mValueError\u001b[0m: setting an array element with a sequence. The requested array has an inhomogeneous shape after 1 dimensions. The detected shape was (2,) + inhomogeneous part."
     ]
    }
   ],
   "source": [
    "mps_old = NDMPS.from_matrix(test_tens)"
   ]
  },
  {
   "cell_type": "code",
   "execution_count": 30,
   "metadata": {},
   "outputs": [],
   "source": [
    "test_tens = np.random.rand(240,240,220)"
   ]
  },
  {
   "cell_type": "code",
   "execution_count": 31,
   "metadata": {},
   "outputs": [
    {
     "name": "stderr",
     "output_type": "stream",
     "text": [
      "/var/folders/2k/n_pr2lyj52ggrhmgv2zx_jt40000gn/T/ipykernel_6316/2243089732.py:39: RuntimeWarning: invalid value encountered in cast\n",
      "  prod_block_sizes[0] = prod_block_sizes[0] * 1e100\n"
     ]
    },
    {
     "name": "stdout",
     "output_type": "stream",
     "text": [
      "Time to run hierarchical_block_indexing: 1.19645214 seconds\n",
      "(30, 32, 80, 165)\n"
     ]
    }
   ],
   "source": [
    "qubit_size, encoding_map = gen_encoding_map(test_tens.shape)\n",
    "encoding_map = np.moveaxis(encoding_map, 0, -1)\n",
    "\n",
    "contracted_tensor = np.empty(shape = tuple(qubit_size))\n",
    "print(contracted_tensor.shape)\n"
   ]
  },
  {
   "cell_type": "code",
   "execution_count": 32,
   "metadata": {},
   "outputs": [],
   "source": [
    "it = np.nditer(test_tens, flags=['multi_index'])\n",
    "for _ in it:\n",
    "    contracted_tensor[tuple(encoding_map[it.multi_index])] = test_tens[it.multi_index]"
   ]
  },
  {
   "cell_type": "code",
   "execution_count": 33,
   "metadata": {},
   "outputs": [
    {
     "ename": "ValueError",
     "evalue": "parameter multi_index must be a sequence of length 3",
     "output_type": "error",
     "traceback": [
      "\u001b[0;31m---------------------------------------------------------------------------\u001b[0m",
      "\u001b[0;31mValueError\u001b[0m                                Traceback (most recent call last)",
      "Cell \u001b[0;32mIn[33], line 2\u001b[0m\n\u001b[1;32m      1\u001b[0m \u001b[38;5;66;03m# Convert multi-index encoding_map to flat indices\u001b[39;00m\n\u001b[0;32m----> 2\u001b[0m flat_indices \u001b[38;5;241m=\u001b[39m \u001b[43mnp\u001b[49m\u001b[38;5;241;43m.\u001b[39;49m\u001b[43mravel_multi_index\u001b[49m\u001b[43m(\u001b[49m\u001b[43mencoding_map\u001b[49m\u001b[38;5;241;43m.\u001b[39;49m\u001b[43mT\u001b[49m\u001b[43m,\u001b[49m\u001b[43m \u001b[49m\u001b[43mtest_tens\u001b[49m\u001b[38;5;241;43m.\u001b[39;49m\u001b[43mshape\u001b[49m\u001b[43m)\u001b[49m\n\u001b[1;32m      4\u001b[0m \u001b[38;5;66;03m# Flatten the input matrix\u001b[39;00m\n\u001b[1;32m      5\u001b[0m flattened_matrix \u001b[38;5;241m=\u001b[39m test_tens\u001b[38;5;241m.\u001b[39mravel()\n",
      "\u001b[0;31mValueError\u001b[0m: parameter multi_index must be a sequence of length 3"
     ]
    }
   ],
   "source": [
    "# Convert multi-index encoding_map to flat indices\n",
    "flat_indices = np.ravel_multi_index(encoding_map.T, test_tens.shape)\n",
    "\n",
    "# Flatten the input matrix\n",
    "flattened_matrix = test_tens.ravel()\n",
    "\n",
    "# Reorder data efficiently\n",
    "contracted_tensor = flattened_matrix[flat_indices].reshape(contracted_tensor.shape)"
   ]
  },
  {
   "cell_type": "code",
   "execution_count": 34,
   "metadata": {},
   "outputs": [
    {
     "data": {
      "text/plain": [
       "(240, 240, 220)"
      ]
     },
     "execution_count": 34,
     "metadata": {},
     "output_type": "execute_result"
    }
   ],
   "source": [
    "test_tens.shape"
   ]
  },
  {
   "cell_type": "code",
   "execution_count": 35,
   "metadata": {},
   "outputs": [
    {
     "ename": "IndexError",
     "evalue": "too many indices for array",
     "output_type": "error",
     "traceback": [
      "\u001b[0;31m---------------------------------------------------------------------------\u001b[0m",
      "\u001b[0;31mIndexError\u001b[0m                                Traceback (most recent call last)",
      "Cell \u001b[0;32mIn[35], line 1\u001b[0m\n\u001b[0;32m----> 1\u001b[0m \u001b[43mcontracted_tensor\u001b[49m\u001b[43m[\u001b[49m\u001b[38;5;28;43mtuple\u001b[39;49m\u001b[43m(\u001b[49m\u001b[43mencoding_map\u001b[49m\u001b[43m)\u001b[49m\u001b[43m]\u001b[49m\n",
      "\u001b[0;31mIndexError\u001b[0m: too many indices for array"
     ]
    }
   ],
   "source": [
    "contracted_tensor[tuple(encoding_map)]"
   ]
  },
  {
   "cell_type": "code",
   "execution_count": 36,
   "metadata": {},
   "outputs": [
    {
     "data": {
      "text/plain": [
       "(240, 240, 220, 4)"
      ]
     },
     "execution_count": 36,
     "metadata": {},
     "output_type": "execute_result"
    }
   ],
   "source": [
    "encoding_map.shape"
   ]
  },
  {
   "cell_type": "code",
   "execution_count": 37,
   "metadata": {},
   "outputs": [
    {
     "ename": "IndexError",
     "evalue": "index 30 is out of bounds for axis 0 with size 30",
     "output_type": "error",
     "traceback": [
      "\u001b[0;31m---------------------------------------------------------------------------\u001b[0m",
      "\u001b[0;31mIndexError\u001b[0m                                Traceback (most recent call last)",
      "Cell \u001b[0;32mIn[37], line 1\u001b[0m\n\u001b[0;32m----> 1\u001b[0m \u001b[43mcontracted_tensor\u001b[49m\u001b[43m[\u001b[49m\u001b[43mnp\u001b[49m\u001b[38;5;241;43m.\u001b[39;49m\u001b[43marray\u001b[49m\u001b[43m(\u001b[49m\u001b[43m[\u001b[49m\u001b[38;5;241;43m0\u001b[39;49m\u001b[43m,\u001b[49m\u001b[38;5;241;43m0\u001b[39;49m\u001b[43m,\u001b[49m\u001b[38;5;241;43m0\u001b[39;49m\u001b[43m,\u001b[49m\u001b[38;5;241;43m30\u001b[39;49m\u001b[43m]\u001b[49m\u001b[43m)\u001b[49m\u001b[43m]\u001b[49m\n",
      "\u001b[0;31mIndexError\u001b[0m: index 30 is out of bounds for axis 0 with size 30"
     ]
    }
   ],
   "source": [
    "contracted_tensor[np.array([0,0,0,30])]"
   ]
  },
  {
   "cell_type": "code",
   "execution_count": 38,
   "metadata": {},
   "outputs": [],
   "source": [
    "mps = qtn.MatrixProductState.from_dense(contracted_tensor, dims = tuple(qubit_size))"
   ]
  },
  {
   "cell_type": "code",
   "execution_count": 39,
   "metadata": {},
   "outputs": [
    {
     "data": {
      "text/plain": [
       "array([3, 5, 2])"
      ]
     },
     "execution_count": 39,
     "metadata": {},
     "output_type": "execute_result"
    }
   ],
   "source": [
    "block_sizes[0]"
   ]
  },
  {
   "cell_type": "code",
   "execution_count": 40,
   "metadata": {},
   "outputs": [
    {
     "ename": "ValueError",
     "evalue": "cannot reshape array of size 38016000 into shape (3,11616000)",
     "output_type": "error",
     "traceback": [
      "\u001b[0;31m---------------------------------------------------------------------------\u001b[0m",
      "\u001b[0;31mValueError\u001b[0m                                Traceback (most recent call last)",
      "Cell \u001b[0;32mIn[40], line 1\u001b[0m\n\u001b[0;32m----> 1\u001b[0m \u001b[43mmapped_indexes\u001b[49m\u001b[43m[\u001b[49m\u001b[38;5;241;43m0\u001b[39;49m\u001b[43m]\u001b[49m\u001b[38;5;241;43m.\u001b[39;49m\u001b[43mreshape\u001b[49m\u001b[43m(\u001b[49m\u001b[38;5;241;43m3\u001b[39;49m\u001b[43m,\u001b[49m\u001b[38;5;241;43m220\u001b[39;49m\u001b[38;5;241;43m*\u001b[39;49m\u001b[38;5;241;43m220\u001b[39;49m\u001b[38;5;241;43m*\u001b[39;49m\u001b[38;5;241;43m240\u001b[39;49m\u001b[43m)\u001b[49m\n",
      "\u001b[0;31mValueError\u001b[0m: cannot reshape array of size 38016000 into shape (3,11616000)"
     ]
    }
   ],
   "source": [
    "mapped_indexes[0].reshape(3,220*220*240)"
   ]
  },
  {
   "cell_type": "code",
   "execution_count": 41,
   "metadata": {},
   "outputs": [
    {
     "data": {
      "text/plain": [
       "np.int64(0)"
      ]
     },
     "execution_count": 41,
     "metadata": {},
     "output_type": "execute_result"
    }
   ],
   "source": [
    "mapped_indexes[0].min()"
   ]
  },
  {
   "cell_type": "code",
   "execution_count": 42,
   "metadata": {},
   "outputs": [
    {
     "data": {
      "text/plain": [
       "array([[ 3,  5,  2],\n",
       "       [ 4,  4,  2],\n",
       "       [ 4,  4,  5],\n",
       "       [ 5,  3, 11]])"
      ]
     },
     "execution_count": 42,
     "metadata": {},
     "output_type": "execute_result"
    }
   ],
   "source": [
    "block_sizes"
   ]
  },
  {
   "cell_type": "code",
   "execution_count": 43,
   "metadata": {},
   "outputs": [
    {
     "data": {
      "text/plain": [
       "array([1, 2, 0])"
      ]
     },
     "execution_count": 43,
     "metadata": {},
     "output_type": "execute_result"
    }
   ],
   "source": [
    "mapped_indexes[0,:,100,100,100]"
   ]
  },
  {
   "cell_type": "code",
   "execution_count": 44,
   "metadata": {},
   "outputs": [
    {
     "data": {
      "text/plain": [
       "(np.int64(3), np.int64(5), np.int64(2))"
      ]
     },
     "execution_count": 44,
     "metadata": {},
     "output_type": "execute_result"
    }
   ],
   "source": [
    "tuple(block_sizes[0])"
   ]
  },
  {
   "cell_type": "code",
   "execution_count": 45,
   "metadata": {},
   "outputs": [
    {
     "data": {
      "text/plain": [
       "np.int64(12)"
      ]
     },
     "execution_count": 45,
     "metadata": {},
     "output_type": "execute_result"
    }
   ],
   "source": [
    "np.ravel_multi_index(mapped_indexes[3,:,100,100,100].astype(int), block_sizes[3])"
   ]
  },
  {
   "cell_type": "code",
   "execution_count": 46,
   "metadata": {},
   "outputs": [
    {
     "data": {
      "text/plain": [
       "(3,)"
      ]
     },
     "execution_count": 46,
     "metadata": {},
     "output_type": "execute_result"
    }
   ],
   "source": [
    "np.array(index).shape"
   ]
  },
  {
   "cell_type": "code",
   "execution_count": 47,
   "metadata": {},
   "outputs": [
    {
     "ename": "TypeError",
     "evalue": "can only concatenate tuple (not \"int\") to tuple",
     "output_type": "error",
     "traceback": [
      "\u001b[0;31m---------------------------------------------------------------------------\u001b[0m",
      "\u001b[0;31mTypeError\u001b[0m                                 Traceback (most recent call last)",
      "Cell \u001b[0;32mIn[47], line 1\u001b[0m\n\u001b[0;32m----> 1\u001b[0m \u001b[43m(\u001b[49m\u001b[38;5;241;43m1\u001b[39;49m\u001b[43m,\u001b[49m\u001b[38;5;241;43m2\u001b[39;49m\u001b[43m)\u001b[49m\u001b[38;5;241;43m+\u001b[39;49m\u001b[43m(\u001b[49m\u001b[38;5;241;43m1\u001b[39;49m\u001b[43m)\u001b[49m\n",
      "\u001b[0;31mTypeError\u001b[0m: can only concatenate tuple (not \"int\") to tuple"
     ]
    }
   ],
   "source": [
    "(1,2)+(1)"
   ]
  },
  {
   "cell_type": "code",
   "execution_count": 48,
   "metadata": {},
   "outputs": [
    {
     "data": {
      "text/plain": [
       "[inf, inf, inf, inf, inf]"
      ]
     },
     "execution_count": 48,
     "metadata": {},
     "output_type": "execute_result"
    }
   ],
   "source": [
    "[np.inf]*5"
   ]
  },
  {
   "cell_type": "code",
   "execution_count": 49,
   "metadata": {},
   "outputs": [
    {
     "name": "stdout",
     "output_type": "stream",
     "text": [
      "[[ 3  5  2]\n",
      " [ 4  4  2]\n",
      " [ 4  4  5]\n",
      " [ 5  3 11]]\n",
      "-----\n",
      "[[9223372036854775807 9223372036854775807 9223372036854775807]\n",
      " [                 80                  48                 110]\n",
      " [                 20                  12                  55]\n",
      " [                  5                   3                  11]\n",
      " [                  1                   1                   1]]\n"
     ]
    }
   ],
   "source": [
    "print(block_sizes)\n",
    "print(\"-----\")\n",
    "print(prod_blocks)"
   ]
  },
  {
   "cell_type": "code",
   "execution_count": 50,
   "metadata": {},
   "outputs": [],
   "source": [
    "def hierarchical_block_indexing(index, prod_block_sizes):\n",
    "    return np.floor(np.mod(index, prod_block_sizes[:-1])/prod_block_sizes[1:])"
   ]
  },
  {
   "cell_type": "code",
   "execution_count": 51,
   "metadata": {},
   "outputs": [
    {
     "data": {
      "text/plain": [
       "array([[100, 100, 100],\n",
       "       [ 20,   4, 100],\n",
       "       [  0,   4,  45],\n",
       "       [  0,   1,   1]])"
      ]
     },
     "execution_count": 51,
     "metadata": {},
     "output_type": "execute_result"
    }
   ],
   "source": [
    "np.mod(index, prod_blocks[:-1])"
   ]
  },
  {
   "cell_type": "code",
   "execution_count": 52,
   "metadata": {},
   "outputs": [
    {
     "data": {
      "text/plain": [
       "np.float64(100.0)"
      ]
     },
     "execution_count": 52,
     "metadata": {},
     "output_type": "execute_result"
    }
   ],
   "source": [
    "np.mod(100,np.inf)"
   ]
  },
  {
   "cell_type": "code",
   "execution_count": 53,
   "metadata": {},
   "outputs": [
    {
     "data": {
      "text/plain": [
       "array([1.25      , 2.08333333, 0.90909091])"
      ]
     },
     "execution_count": 53,
     "metadata": {},
     "output_type": "execute_result"
    }
   ],
   "source": [
    "index/np.prod(block_sizes[1:], axis=0)"
   ]
  },
  {
   "cell_type": "code",
   "execution_count": 54,
   "metadata": {},
   "outputs": [],
   "source": [
    "def hierarchical_block_indexing_old(index, shape, block_sizes):\n",
    "    num_levels = len(block_sizes)\n",
    "    dim = len(index)\n",
    "    # important only insert numpy arrays\n",
    "    hierarchical_indices = np.zeros((num_levels, dim))\n",
    "    for level in range(num_levels):\n",
    "        if level == 0:\n",
    "            hierarchical_indices[0] = (np.floor(index/np.prod(block_sizes[1:], axis=0)))\n",
    "        elif level == num_levels-1:\n",
    "            hierarchical_indices[level] = (np.floor(np.mod(index, block_sizes[-1])))\n",
    "        else:\n",
    "            hierarchical_indices[level]= (np.floor(np.mod(index, np.prod(block_sizes[level:], axis=0))/np.prod(block_sizes[level+1:], axis=0)))\n",
    "    return hierarchical_indices"
   ]
  },
  {
   "cell_type": "code",
   "execution_count": 55,
   "metadata": {},
   "outputs": [
    {
     "name": "stderr",
     "output_type": "stream",
     "text": [
      "/var/folders/2k/n_pr2lyj52ggrhmgv2zx_jt40000gn/T/ipykernel_6316/2243089732.py:39: RuntimeWarning: invalid value encountered in cast\n",
      "  prod_block_sizes[0] = prod_block_sizes[0] * 1e100\n"
     ]
    },
    {
     "ename": "TypeError",
     "evalue": "hierarchical_block_indexing() takes 2 positional arguments but 3 were given",
     "output_type": "error",
     "traceback": [
      "\u001b[0;31m---------------------------------------------------------------------------\u001b[0m",
      "\u001b[0;31mTypeError\u001b[0m                                 Traceback (most recent call last)",
      "Cell \u001b[0;32mIn[55], line 4\u001b[0m\n\u001b[1;32m      2\u001b[0m index \u001b[38;5;241m=\u001b[39m (\u001b[38;5;241m100\u001b[39m, \u001b[38;5;241m100\u001b[39m,\u001b[38;5;241m100\u001b[39m)\n\u001b[1;32m      3\u001b[0m block_sizes \u001b[38;5;241m=\u001b[39m get_factorlist(shape)\n\u001b[0;32m----> 4\u001b[0m \u001b[43mstdId_to_hierarchical_index\u001b[49m\u001b[43m(\u001b[49m\u001b[43mindex\u001b[49m\u001b[43m,\u001b[49m\u001b[43m \u001b[49m\u001b[43mshape\u001b[49m\u001b[43m,\u001b[49m\u001b[43m \u001b[49m\u001b[43mblock_sizes\u001b[49m\u001b[43m)\u001b[49m\n",
      "Cell \u001b[0;32mIn[11], line 11\u001b[0m, in \u001b[0;36mtime_function.<locals>.wrapper\u001b[0;34m(*args, **kwargs)\u001b[0m\n\u001b[1;32m      9\u001b[0m \u001b[38;5;28;01mdef\u001b[39;00m \u001b[38;5;21mwrapper\u001b[39m(\u001b[38;5;241m*\u001b[39margs, \u001b[38;5;241m*\u001b[39m\u001b[38;5;241m*\u001b[39mkwargs):\n\u001b[1;32m     10\u001b[0m     start_time \u001b[38;5;241m=\u001b[39m time\u001b[38;5;241m.\u001b[39mtime()\n\u001b[0;32m---> 11\u001b[0m     result \u001b[38;5;241m=\u001b[39m \u001b[43mfunc\u001b[49m\u001b[43m(\u001b[49m\u001b[38;5;241;43m*\u001b[39;49m\u001b[43margs\u001b[49m\u001b[43m,\u001b[49m\u001b[43m \u001b[49m\u001b[38;5;241;43m*\u001b[39;49m\u001b[38;5;241;43m*\u001b[39;49m\u001b[43mkwargs\u001b[49m\u001b[43m)\u001b[49m\n\u001b[1;32m     12\u001b[0m     elapsed_time \u001b[38;5;241m=\u001b[39m time\u001b[38;5;241m.\u001b[39mtime() \u001b[38;5;241m-\u001b[39m start_time\n\u001b[1;32m     13\u001b[0m     \u001b[38;5;28mprint\u001b[39m(\u001b[38;5;124mf\u001b[39m\u001b[38;5;124m\"\u001b[39m\u001b[38;5;124mTime to run \u001b[39m\u001b[38;5;132;01m{\u001b[39;00mfunc\u001b[38;5;241m.\u001b[39m\u001b[38;5;18m__name__\u001b[39m\u001b[38;5;132;01m}\u001b[39;00m\u001b[38;5;124m: \u001b[39m\u001b[38;5;132;01m{\u001b[39;00melapsed_time\u001b[38;5;132;01m:\u001b[39;00m\u001b[38;5;124m.8f\u001b[39m\u001b[38;5;132;01m}\u001b[39;00m\u001b[38;5;124m seconds\u001b[39m\u001b[38;5;124m\"\u001b[39m)\n",
      "Cell \u001b[0;32mIn[11], line 108\u001b[0m, in \u001b[0;36mstdId_to_hierarchical_index\u001b[0;34m(stdId, shape, block_sizes)\u001b[0m\n\u001b[1;32m    106\u001b[0m \u001b[38;5;129m@time_function\u001b[39m\n\u001b[1;32m    107\u001b[0m \u001b[38;5;28;01mdef\u001b[39;00m \u001b[38;5;21mstdId_to_hierarchical_index\u001b[39m(stdId, shape, block_sizes):\n\u001b[0;32m--> 108\u001b[0m     hier_ind \u001b[38;5;241m=\u001b[39m \u001b[43mhierarchical_block_indexing\u001b[49m\u001b[43m(\u001b[49m\u001b[43mstdId\u001b[49m\u001b[43m,\u001b[49m\u001b[43m \u001b[49m\u001b[43mshape\u001b[49m\u001b[43m,\u001b[49m\u001b[43m \u001b[49m\u001b[43mblock_sizes\u001b[49m\u001b[43m)\u001b[49m\n\u001b[1;32m    109\u001b[0m     \u001b[38;5;28;01mreturn\u001b[39;00m return_flattened_idices(hier_ind, block_sizes)\n",
      "\u001b[0;31mTypeError\u001b[0m: hierarchical_block_indexing() takes 2 positional arguments but 3 were given"
     ]
    }
   ],
   "source": [
    "shape = (220,220,220)\n",
    "index = (100, 100,100)\n",
    "block_sizes = get_factorlist(shape)\n",
    "stdId_to_hierarchical_index(index, shape, block_sizes)"
   ]
  },
  {
   "cell_type": "code",
   "execution_count": 56,
   "metadata": {},
   "outputs": [
    {
     "data": {
      "text/plain": [
       "10.648"
      ]
     },
     "execution_count": 56,
     "metadata": {},
     "output_type": "execute_result"
    }
   ],
   "source": [
    "(6e-5 * 220**3)/60"
   ]
  },
  {
   "cell_type": "code",
   "execution_count": 57,
   "metadata": {},
   "outputs": [],
   "source": [
    "size = 40\n",
    "A = np.random.rand(size,size,size)\n",
    "mps_old = NDMPS_old.from_matrix(A, mode = \"DCT\")"
   ]
  },
  {
   "cell_type": "code",
   "execution_count": 58,
   "metadata": {},
   "outputs": [
    {
     "name": "stderr",
     "output_type": "stream",
     "text": [
      "/var/folders/2k/n_pr2lyj52ggrhmgv2zx_jt40000gn/T/ipykernel_6316/2243089732.py:39: RuntimeWarning: invalid value encountered in cast\n",
      "  prod_block_sizes[0] = prod_block_sizes[0] * 1e100\n"
     ]
    },
    {
     "ename": "ValueError",
     "evalue": "setting an array element with a sequence. The requested array has an inhomogeneous shape after 1 dimensions. The detected shape was (2,) + inhomogeneous part.",
     "output_type": "error",
     "traceback": [
      "\u001b[0;31m---------------------------------------------------------------------------\u001b[0m",
      "\u001b[0;31mValueError\u001b[0m                                Traceback (most recent call last)",
      "Cell \u001b[0;32mIn[58], line 1\u001b[0m\n\u001b[0;32m----> 1\u001b[0m mps_new \u001b[38;5;241m=\u001b[39m \u001b[43mNDMPS\u001b[49m\u001b[38;5;241;43m.\u001b[39;49m\u001b[43mfrom_matrix\u001b[49m\u001b[43m(\u001b[49m\u001b[43mA\u001b[49m\u001b[43m,\u001b[49m\u001b[43m \u001b[49m\u001b[43mmode\u001b[49m\u001b[43m \u001b[49m\u001b[38;5;241;43m=\u001b[39;49m\u001b[43m \u001b[49m\u001b[38;5;124;43m\"\u001b[39;49m\u001b[38;5;124;43mDCT\u001b[39;49m\u001b[38;5;124;43m\"\u001b[39;49m\u001b[43m)\u001b[49m\n",
      "Cell \u001b[0;32mIn[11], line 127\u001b[0m, in \u001b[0;36mNDMPS.from_matrix\u001b[0;34m(cls, matrix, norm, mode)\u001b[0m\n\u001b[1;32m    123\u001b[0m \u001b[38;5;129m@classmethod\u001b[39m\n\u001b[1;32m    124\u001b[0m \u001b[38;5;66;03m# @time_function\u001b[39;00m\n\u001b[1;32m    125\u001b[0m \u001b[38;5;28;01mdef\u001b[39;00m \u001b[38;5;21mfrom_matrix\u001b[39m(\u001b[38;5;28mcls\u001b[39m, matrix, norm \u001b[38;5;241m=\u001b[39m \u001b[38;5;28;01mFalse\u001b[39;00m, mode \u001b[38;5;241m=\u001b[39m \u001b[38;5;124m\"\u001b[39m\u001b[38;5;124mStd\u001b[39m\u001b[38;5;124m\"\u001b[39m):\n\u001b[1;32m    126\u001b[0m     shape \u001b[38;5;241m=\u001b[39m matrix\u001b[38;5;241m.\u001b[39mshape\n\u001b[0;32m--> 127\u001b[0m     qubit_size \u001b[38;5;241m=\u001b[39m \u001b[43mnp\u001b[49m\u001b[38;5;241;43m.\u001b[39;49m\u001b[43mprod\u001b[49m\u001b[43m(\u001b[49m\u001b[43mget_factorlist\u001b[49m\u001b[43m(\u001b[49m\u001b[43mshape\u001b[49m\u001b[43m)\u001b[49m\u001b[43m,\u001b[49m\u001b[43m \u001b[49m\u001b[43maxis\u001b[49m\u001b[43m \u001b[49m\u001b[38;5;241;43m=\u001b[39;49m\u001b[38;5;241;43m1\u001b[39;49m\u001b[43m)\u001b[49m\n\u001b[1;32m    128\u001b[0m     block_sizes \u001b[38;5;241m=\u001b[39m get_factorlist(shape)\n\u001b[1;32m    130\u001b[0m     \u001b[38;5;66;03m#check for flags\u001b[39;00m\n",
      "File \u001b[0;32m~/miniconda3/envs/QEL/lib/python3.10/site-packages/numpy/_core/fromnumeric.py:3191\u001b[0m, in \u001b[0;36mprod\u001b[0;34m(a, axis, dtype, out, keepdims, initial, where)\u001b[0m\n\u001b[1;32m   3068\u001b[0m \u001b[38;5;129m@array_function_dispatch\u001b[39m(_prod_dispatcher)\n\u001b[1;32m   3069\u001b[0m \u001b[38;5;28;01mdef\u001b[39;00m \u001b[38;5;21mprod\u001b[39m(a, axis\u001b[38;5;241m=\u001b[39m\u001b[38;5;28;01mNone\u001b[39;00m, dtype\u001b[38;5;241m=\u001b[39m\u001b[38;5;28;01mNone\u001b[39;00m, out\u001b[38;5;241m=\u001b[39m\u001b[38;5;28;01mNone\u001b[39;00m, keepdims\u001b[38;5;241m=\u001b[39mnp\u001b[38;5;241m.\u001b[39m_NoValue,\n\u001b[1;32m   3070\u001b[0m          initial\u001b[38;5;241m=\u001b[39mnp\u001b[38;5;241m.\u001b[39m_NoValue, where\u001b[38;5;241m=\u001b[39mnp\u001b[38;5;241m.\u001b[39m_NoValue):\n\u001b[1;32m   3071\u001b[0m \u001b[38;5;250m    \u001b[39m\u001b[38;5;124;03m\"\"\"\u001b[39;00m\n\u001b[1;32m   3072\u001b[0m \u001b[38;5;124;03m    Return the product of array elements over a given axis.\u001b[39;00m\n\u001b[1;32m   3073\u001b[0m \n\u001b[0;32m   (...)\u001b[0m\n\u001b[1;32m   3189\u001b[0m \u001b[38;5;124;03m    10\u001b[39;00m\n\u001b[1;32m   3190\u001b[0m \u001b[38;5;124;03m    \"\"\"\u001b[39;00m\n\u001b[0;32m-> 3191\u001b[0m     \u001b[38;5;28;01mreturn\u001b[39;00m \u001b[43m_wrapreduction\u001b[49m\u001b[43m(\u001b[49m\u001b[43ma\u001b[49m\u001b[43m,\u001b[49m\u001b[43m \u001b[49m\u001b[43mnp\u001b[49m\u001b[38;5;241;43m.\u001b[39;49m\u001b[43mmultiply\u001b[49m\u001b[43m,\u001b[49m\u001b[43m \u001b[49m\u001b[38;5;124;43m'\u001b[39;49m\u001b[38;5;124;43mprod\u001b[39;49m\u001b[38;5;124;43m'\u001b[39;49m\u001b[43m,\u001b[49m\u001b[43m \u001b[49m\u001b[43maxis\u001b[49m\u001b[43m,\u001b[49m\u001b[43m \u001b[49m\u001b[43mdtype\u001b[49m\u001b[43m,\u001b[49m\u001b[43m \u001b[49m\u001b[43mout\u001b[49m\u001b[43m,\u001b[49m\n\u001b[1;32m   3192\u001b[0m \u001b[43m                          \u001b[49m\u001b[43mkeepdims\u001b[49m\u001b[38;5;241;43m=\u001b[39;49m\u001b[43mkeepdims\u001b[49m\u001b[43m,\u001b[49m\u001b[43m \u001b[49m\u001b[43minitial\u001b[49m\u001b[38;5;241;43m=\u001b[39;49m\u001b[43minitial\u001b[49m\u001b[43m,\u001b[49m\u001b[43m \u001b[49m\u001b[43mwhere\u001b[49m\u001b[38;5;241;43m=\u001b[39;49m\u001b[43mwhere\u001b[49m\u001b[43m)\u001b[49m\n",
      "File \u001b[0;32m~/miniconda3/envs/QEL/lib/python3.10/site-packages/numpy/_core/fromnumeric.py:86\u001b[0m, in \u001b[0;36m_wrapreduction\u001b[0;34m(obj, ufunc, method, axis, dtype, out, **kwargs)\u001b[0m\n\u001b[1;32m     83\u001b[0m         \u001b[38;5;28;01melse\u001b[39;00m:\n\u001b[1;32m     84\u001b[0m             \u001b[38;5;28;01mreturn\u001b[39;00m reduction(axis\u001b[38;5;241m=\u001b[39maxis, out\u001b[38;5;241m=\u001b[39mout, \u001b[38;5;241m*\u001b[39m\u001b[38;5;241m*\u001b[39mpasskwargs)\n\u001b[0;32m---> 86\u001b[0m \u001b[38;5;28;01mreturn\u001b[39;00m \u001b[43mufunc\u001b[49m\u001b[38;5;241;43m.\u001b[39;49m\u001b[43mreduce\u001b[49m\u001b[43m(\u001b[49m\u001b[43mobj\u001b[49m\u001b[43m,\u001b[49m\u001b[43m \u001b[49m\u001b[43maxis\u001b[49m\u001b[43m,\u001b[49m\u001b[43m \u001b[49m\u001b[43mdtype\u001b[49m\u001b[43m,\u001b[49m\u001b[43m \u001b[49m\u001b[43mout\u001b[49m\u001b[43m,\u001b[49m\u001b[43m \u001b[49m\u001b[38;5;241;43m*\u001b[39;49m\u001b[38;5;241;43m*\u001b[39;49m\u001b[43mpasskwargs\u001b[49m\u001b[43m)\u001b[49m\n",
      "\u001b[0;31mValueError\u001b[0m: setting an array element with a sequence. The requested array has an inhomogeneous shape after 1 dimensions. The detected shape was (2,) + inhomogeneous part."
     ]
    }
   ],
   "source": [
    "mps_new = NDMPS.from_matrix(A, mode = \"DCT\")"
   ]
  },
  {
   "cell_type": "code",
   "execution_count": 59,
   "metadata": {},
   "outputs": [
    {
     "ename": "NameError",
     "evalue": "name 'mps_new' is not defined",
     "output_type": "error",
     "traceback": [
      "\u001b[0;31m---------------------------------------------------------------------------\u001b[0m",
      "\u001b[0;31mNameError\u001b[0m                                 Traceback (most recent call last)",
      "Cell \u001b[0;32mIn[59], line 1\u001b[0m\n\u001b[0;32m----> 1\u001b[0m mps_old\u001b[38;5;241m.\u001b[39mmps \u001b[38;5;241m@\u001b[39m \u001b[43mmps_new\u001b[49m\u001b[38;5;241m.\u001b[39mmps\n",
      "\u001b[0;31mNameError\u001b[0m: name 'mps_new' is not defined"
     ]
    }
   ],
   "source": [
    "mps_old.mps @ mps_new.mps"
   ]
  },
  {
   "cell_type": "code",
   "execution_count": 60,
   "metadata": {},
   "outputs": [
    {
     "data": {
      "text/plain": [
       "21251.431561147743"
      ]
     },
     "execution_count": 60,
     "metadata": {},
     "output_type": "execute_result"
    }
   ],
   "source": [
    "mps_old.mps @ mps_old.mps"
   ]
  },
  {
   "cell_type": "code",
   "execution_count": 129,
   "metadata": {},
   "outputs": [
    {
     "data": {
      "text/plain": [
       "([66, 40, 40, 110],\n",
       " array([[[(np.int64(0), np.int64(0), np.int64(0), np.int64(0)),\n",
       "          (np.int64(0), np.int64(0), np.int64(0), np.int64(1)),\n",
       "          (np.int64(0), np.int64(0), np.int64(0), np.int64(2)), ...,\n",
       "          (np.int64(2), np.int64(3), np.int64(3), np.int64(2)),\n",
       "          (np.int64(2), np.int64(3), np.int64(3), np.int64(3)),\n",
       "          (np.int64(2), np.int64(3), np.int64(3), np.int64(4))],\n",
       "         [(np.int64(0), np.int64(0), np.int64(0), np.int64(5)),\n",
       "          (np.int64(0), np.int64(0), np.int64(0), np.int64(6)),\n",
       "          (np.int64(0), np.int64(0), np.int64(0), np.int64(7)), ...,\n",
       "          (np.int64(2), np.int64(3), np.int64(3), np.int64(7)),\n",
       "          (np.int64(2), np.int64(3), np.int64(3), np.int64(8)),\n",
       "          (np.int64(2), np.int64(3), np.int64(3), np.int64(9))],\n",
       "         [(np.int64(0), np.int64(0), np.int64(4), np.int64(0)),\n",
       "          (np.int64(0), np.int64(0), np.int64(4), np.int64(1)),\n",
       "          (np.int64(0), np.int64(0), np.int64(4), np.int64(2)), ...,\n",
       "          (np.int64(2), np.int64(3), np.int64(7), np.int64(2)),\n",
       "          (np.int64(2), np.int64(3), np.int64(7), np.int64(3)),\n",
       "          (np.int64(2), np.int64(3), np.int64(7), np.int64(4))],\n",
       "         ...,\n",
       "         [(np.int64(30), np.int64(16), np.int64(0), np.int64(5)),\n",
       "          (np.int64(30), np.int64(16), np.int64(0), np.int64(6)),\n",
       "          (np.int64(30), np.int64(16), np.int64(0), np.int64(7)), ...,\n",
       "          (np.int64(32), np.int64(19), np.int64(3), np.int64(7)),\n",
       "          (np.int64(32), np.int64(19), np.int64(3), np.int64(8)),\n",
       "          (np.int64(32), np.int64(19), np.int64(3), np.int64(9))],\n",
       "         [(np.int64(30), np.int64(16), np.int64(4), np.int64(0)),\n",
       "          (np.int64(30), np.int64(16), np.int64(4), np.int64(1)),\n",
       "          (np.int64(30), np.int64(16), np.int64(4), np.int64(2)), ...,\n",
       "          (np.int64(32), np.int64(19), np.int64(7), np.int64(2)),\n",
       "          (np.int64(32), np.int64(19), np.int64(7), np.int64(3)),\n",
       "          (np.int64(32), np.int64(19), np.int64(7), np.int64(4))],\n",
       "         [(np.int64(30), np.int64(16), np.int64(4), np.int64(5)),\n",
       "          (np.int64(30), np.int64(16), np.int64(4), np.int64(6)),\n",
       "          (np.int64(30), np.int64(16), np.int64(4), np.int64(7)), ...,\n",
       "          (np.int64(32), np.int64(19), np.int64(7), np.int64(7)),\n",
       "          (np.int64(32), np.int64(19), np.int64(7), np.int64(8)),\n",
       "          (np.int64(32), np.int64(19), np.int64(7), np.int64(9))]],\n",
       " \n",
       "        [[(np.int64(0), np.int64(0), np.int64(0), np.int64(10)),\n",
       "          (np.int64(0), np.int64(0), np.int64(0), np.int64(11)),\n",
       "          (np.int64(0), np.int64(0), np.int64(0), np.int64(12)), ...,\n",
       "          (np.int64(2), np.int64(3), np.int64(3), np.int64(12)),\n",
       "          (np.int64(2), np.int64(3), np.int64(3), np.int64(13)),\n",
       "          (np.int64(2), np.int64(3), np.int64(3), np.int64(14))],\n",
       "         [(np.int64(0), np.int64(0), np.int64(0), np.int64(15)),\n",
       "          (np.int64(0), np.int64(0), np.int64(0), np.int64(16)),\n",
       "          (np.int64(0), np.int64(0), np.int64(0), np.int64(17)), ...,\n",
       "          (np.int64(2), np.int64(3), np.int64(3), np.int64(17)),\n",
       "          (np.int64(2), np.int64(3), np.int64(3), np.int64(18)),\n",
       "          (np.int64(2), np.int64(3), np.int64(3), np.int64(19))],\n",
       "         [(np.int64(0), np.int64(0), np.int64(4), np.int64(10)),\n",
       "          (np.int64(0), np.int64(0), np.int64(4), np.int64(11)),\n",
       "          (np.int64(0), np.int64(0), np.int64(4), np.int64(12)), ...,\n",
       "          (np.int64(2), np.int64(3), np.int64(7), np.int64(12)),\n",
       "          (np.int64(2), np.int64(3), np.int64(7), np.int64(13)),\n",
       "          (np.int64(2), np.int64(3), np.int64(7), np.int64(14))],\n",
       "         ...,\n",
       "         [(np.int64(30), np.int64(16), np.int64(0), np.int64(15)),\n",
       "          (np.int64(30), np.int64(16), np.int64(0), np.int64(16)),\n",
       "          (np.int64(30), np.int64(16), np.int64(0), np.int64(17)), ...,\n",
       "          (np.int64(32), np.int64(19), np.int64(3), np.int64(17)),\n",
       "          (np.int64(32), np.int64(19), np.int64(3), np.int64(18)),\n",
       "          (np.int64(32), np.int64(19), np.int64(3), np.int64(19))],\n",
       "         [(np.int64(30), np.int64(16), np.int64(4), np.int64(10)),\n",
       "          (np.int64(30), np.int64(16), np.int64(4), np.int64(11)),\n",
       "          (np.int64(30), np.int64(16), np.int64(4), np.int64(12)), ...,\n",
       "          (np.int64(32), np.int64(19), np.int64(7), np.int64(12)),\n",
       "          (np.int64(32), np.int64(19), np.int64(7), np.int64(13)),\n",
       "          (np.int64(32), np.int64(19), np.int64(7), np.int64(14))],\n",
       "         [(np.int64(30), np.int64(16), np.int64(4), np.int64(15)),\n",
       "          (np.int64(30), np.int64(16), np.int64(4), np.int64(16)),\n",
       "          (np.int64(30), np.int64(16), np.int64(4), np.int64(17)), ...,\n",
       "          (np.int64(32), np.int64(19), np.int64(7), np.int64(17)),\n",
       "          (np.int64(32), np.int64(19), np.int64(7), np.int64(18)),\n",
       "          (np.int64(32), np.int64(19), np.int64(7), np.int64(19))]],\n",
       " \n",
       "        [[(np.int64(0), np.int64(0), np.int64(0), np.int64(20)),\n",
       "          (np.int64(0), np.int64(0), np.int64(0), np.int64(21)),\n",
       "          (np.int64(0), np.int64(0), np.int64(0), np.int64(22)), ...,\n",
       "          (np.int64(2), np.int64(3), np.int64(3), np.int64(22)),\n",
       "          (np.int64(2), np.int64(3), np.int64(3), np.int64(23)),\n",
       "          (np.int64(2), np.int64(3), np.int64(3), np.int64(24))],\n",
       "         [(np.int64(0), np.int64(0), np.int64(0), np.int64(25)),\n",
       "          (np.int64(0), np.int64(0), np.int64(0), np.int64(26)),\n",
       "          (np.int64(0), np.int64(0), np.int64(0), np.int64(27)), ...,\n",
       "          (np.int64(2), np.int64(3), np.int64(3), np.int64(27)),\n",
       "          (np.int64(2), np.int64(3), np.int64(3), np.int64(28)),\n",
       "          (np.int64(2), np.int64(3), np.int64(3), np.int64(29))],\n",
       "         [(np.int64(0), np.int64(0), np.int64(4), np.int64(20)),\n",
       "          (np.int64(0), np.int64(0), np.int64(4), np.int64(21)),\n",
       "          (np.int64(0), np.int64(0), np.int64(4), np.int64(22)), ...,\n",
       "          (np.int64(2), np.int64(3), np.int64(7), np.int64(22)),\n",
       "          (np.int64(2), np.int64(3), np.int64(7), np.int64(23)),\n",
       "          (np.int64(2), np.int64(3), np.int64(7), np.int64(24))],\n",
       "         ...,\n",
       "         [(np.int64(30), np.int64(16), np.int64(0), np.int64(25)),\n",
       "          (np.int64(30), np.int64(16), np.int64(0), np.int64(26)),\n",
       "          (np.int64(30), np.int64(16), np.int64(0), np.int64(27)), ...,\n",
       "          (np.int64(32), np.int64(19), np.int64(3), np.int64(27)),\n",
       "          (np.int64(32), np.int64(19), np.int64(3), np.int64(28)),\n",
       "          (np.int64(32), np.int64(19), np.int64(3), np.int64(29))],\n",
       "         [(np.int64(30), np.int64(16), np.int64(4), np.int64(20)),\n",
       "          (np.int64(30), np.int64(16), np.int64(4), np.int64(21)),\n",
       "          (np.int64(30), np.int64(16), np.int64(4), np.int64(22)), ...,\n",
       "          (np.int64(32), np.int64(19), np.int64(7), np.int64(22)),\n",
       "          (np.int64(32), np.int64(19), np.int64(7), np.int64(23)),\n",
       "          (np.int64(32), np.int64(19), np.int64(7), np.int64(24))],\n",
       "         [(np.int64(30), np.int64(16), np.int64(4), np.int64(25)),\n",
       "          (np.int64(30), np.int64(16), np.int64(4), np.int64(26)),\n",
       "          (np.int64(30), np.int64(16), np.int64(4), np.int64(27)), ...,\n",
       "          (np.int64(32), np.int64(19), np.int64(7), np.int64(27)),\n",
       "          (np.int64(32), np.int64(19), np.int64(7), np.int64(28)),\n",
       "          (np.int64(32), np.int64(19), np.int64(7), np.int64(29))]],\n",
       " \n",
       "        ...,\n",
       " \n",
       "        [[(np.int64(33), np.int64(20), np.int64(32), np.int64(80)),\n",
       "          (np.int64(33), np.int64(20), np.int64(32), np.int64(81)),\n",
       "          (np.int64(33), np.int64(20), np.int64(32), np.int64(82)), ...,\n",
       "          (np.int64(35), np.int64(23), np.int64(35), np.int64(82)),\n",
       "          (np.int64(35), np.int64(23), np.int64(35), np.int64(83)),\n",
       "          (np.int64(35), np.int64(23), np.int64(35), np.int64(84))],\n",
       "         [(np.int64(33), np.int64(20), np.int64(32), np.int64(85)),\n",
       "          (np.int64(33), np.int64(20), np.int64(32), np.int64(86)),\n",
       "          (np.int64(33), np.int64(20), np.int64(32), np.int64(87)), ...,\n",
       "          (np.int64(35), np.int64(23), np.int64(35), np.int64(87)),\n",
       "          (np.int64(35), np.int64(23), np.int64(35), np.int64(88)),\n",
       "          (np.int64(35), np.int64(23), np.int64(35), np.int64(89))],\n",
       "         [(np.int64(33), np.int64(20), np.int64(36), np.int64(80)),\n",
       "          (np.int64(33), np.int64(20), np.int64(36), np.int64(81)),\n",
       "          (np.int64(33), np.int64(20), np.int64(36), np.int64(82)), ...,\n",
       "          (np.int64(35), np.int64(23), np.int64(39), np.int64(82)),\n",
       "          (np.int64(35), np.int64(23), np.int64(39), np.int64(83)),\n",
       "          (np.int64(35), np.int64(23), np.int64(39), np.int64(84))],\n",
       "         ...,\n",
       "         [(np.int64(63), np.int64(36), np.int64(32), np.int64(85)),\n",
       "          (np.int64(63), np.int64(36), np.int64(32), np.int64(86)),\n",
       "          (np.int64(63), np.int64(36), np.int64(32), np.int64(87)), ...,\n",
       "          (np.int64(65), np.int64(39), np.int64(35), np.int64(87)),\n",
       "          (np.int64(65), np.int64(39), np.int64(35), np.int64(88)),\n",
       "          (np.int64(65), np.int64(39), np.int64(35), np.int64(89))],\n",
       "         [(np.int64(63), np.int64(36), np.int64(36), np.int64(80)),\n",
       "          (np.int64(63), np.int64(36), np.int64(36), np.int64(81)),\n",
       "          (np.int64(63), np.int64(36), np.int64(36), np.int64(82)), ...,\n",
       "          (np.int64(65), np.int64(39), np.int64(39), np.int64(82)),\n",
       "          (np.int64(65), np.int64(39), np.int64(39), np.int64(83)),\n",
       "          (np.int64(65), np.int64(39), np.int64(39), np.int64(84))],\n",
       "         [(np.int64(63), np.int64(36), np.int64(36), np.int64(85)),\n",
       "          (np.int64(63), np.int64(36), np.int64(36), np.int64(86)),\n",
       "          (np.int64(63), np.int64(36), np.int64(36), np.int64(87)), ...,\n",
       "          (np.int64(65), np.int64(39), np.int64(39), np.int64(87)),\n",
       "          (np.int64(65), np.int64(39), np.int64(39), np.int64(88)),\n",
       "          (np.int64(65), np.int64(39), np.int64(39), np.int64(89))]],\n",
       " \n",
       "        [[(np.int64(33), np.int64(20), np.int64(32), np.int64(90)),\n",
       "          (np.int64(33), np.int64(20), np.int64(32), np.int64(91)),\n",
       "          (np.int64(33), np.int64(20), np.int64(32), np.int64(92)), ...,\n",
       "          (np.int64(35), np.int64(23), np.int64(35), np.int64(92)),\n",
       "          (np.int64(35), np.int64(23), np.int64(35), np.int64(93)),\n",
       "          (np.int64(35), np.int64(23), np.int64(35), np.int64(94))],\n",
       "         [(np.int64(33), np.int64(20), np.int64(32), np.int64(95)),\n",
       "          (np.int64(33), np.int64(20), np.int64(32), np.int64(96)),\n",
       "          (np.int64(33), np.int64(20), np.int64(32), np.int64(97)), ...,\n",
       "          (np.int64(35), np.int64(23), np.int64(35), np.int64(97)),\n",
       "          (np.int64(35), np.int64(23), np.int64(35), np.int64(98)),\n",
       "          (np.int64(35), np.int64(23), np.int64(35), np.int64(99))],\n",
       "         [(np.int64(33), np.int64(20), np.int64(36), np.int64(90)),\n",
       "          (np.int64(33), np.int64(20), np.int64(36), np.int64(91)),\n",
       "          (np.int64(33), np.int64(20), np.int64(36), np.int64(92)), ...,\n",
       "          (np.int64(35), np.int64(23), np.int64(39), np.int64(92)),\n",
       "          (np.int64(35), np.int64(23), np.int64(39), np.int64(93)),\n",
       "          (np.int64(35), np.int64(23), np.int64(39), np.int64(94))],\n",
       "         ...,\n",
       "         [(np.int64(63), np.int64(36), np.int64(32), np.int64(95)),\n",
       "          (np.int64(63), np.int64(36), np.int64(32), np.int64(96)),\n",
       "          (np.int64(63), np.int64(36), np.int64(32), np.int64(97)), ...,\n",
       "          (np.int64(65), np.int64(39), np.int64(35), np.int64(97)),\n",
       "          (np.int64(65), np.int64(39), np.int64(35), np.int64(98)),\n",
       "          (np.int64(65), np.int64(39), np.int64(35), np.int64(99))],\n",
       "         [(np.int64(63), np.int64(36), np.int64(36), np.int64(90)),\n",
       "          (np.int64(63), np.int64(36), np.int64(36), np.int64(91)),\n",
       "          (np.int64(63), np.int64(36), np.int64(36), np.int64(92)), ...,\n",
       "          (np.int64(65), np.int64(39), np.int64(39), np.int64(92)),\n",
       "          (np.int64(65), np.int64(39), np.int64(39), np.int64(93)),\n",
       "          (np.int64(65), np.int64(39), np.int64(39), np.int64(94))],\n",
       "         [(np.int64(63), np.int64(36), np.int64(36), np.int64(95)),\n",
       "          (np.int64(63), np.int64(36), np.int64(36), np.int64(96)),\n",
       "          (np.int64(63), np.int64(36), np.int64(36), np.int64(97)), ...,\n",
       "          (np.int64(65), np.int64(39), np.int64(39), np.int64(97)),\n",
       "          (np.int64(65), np.int64(39), np.int64(39), np.int64(98)),\n",
       "          (np.int64(65), np.int64(39), np.int64(39), np.int64(99))]],\n",
       " \n",
       "        [[(np.int64(33), np.int64(20), np.int64(32), np.int64(100)),\n",
       "          (np.int64(33), np.int64(20), np.int64(32), np.int64(101)),\n",
       "          (np.int64(33), np.int64(20), np.int64(32), np.int64(102)), ...,\n",
       "          (np.int64(35), np.int64(23), np.int64(35), np.int64(102)),\n",
       "          (np.int64(35), np.int64(23), np.int64(35), np.int64(103)),\n",
       "          (np.int64(35), np.int64(23), np.int64(35), np.int64(104))],\n",
       "         [(np.int64(33), np.int64(20), np.int64(32), np.int64(105)),\n",
       "          (np.int64(33), np.int64(20), np.int64(32), np.int64(106)),\n",
       "          (np.int64(33), np.int64(20), np.int64(32), np.int64(107)), ...,\n",
       "          (np.int64(35), np.int64(23), np.int64(35), np.int64(107)),\n",
       "          (np.int64(35), np.int64(23), np.int64(35), np.int64(108)),\n",
       "          (np.int64(35), np.int64(23), np.int64(35), np.int64(109))],\n",
       "         [(np.int64(33), np.int64(20), np.int64(36), np.int64(100)),\n",
       "          (np.int64(33), np.int64(20), np.int64(36), np.int64(101)),\n",
       "          (np.int64(33), np.int64(20), np.int64(36), np.int64(102)), ...,\n",
       "          (np.int64(35), np.int64(23), np.int64(39), np.int64(102)),\n",
       "          (np.int64(35), np.int64(23), np.int64(39), np.int64(103)),\n",
       "          (np.int64(35), np.int64(23), np.int64(39), np.int64(104))],\n",
       "         ...,\n",
       "         [(np.int64(63), np.int64(36), np.int64(32), np.int64(105)),\n",
       "          (np.int64(63), np.int64(36), np.int64(32), np.int64(106)),\n",
       "          (np.int64(63), np.int64(36), np.int64(32), np.int64(107)), ...,\n",
       "          (np.int64(65), np.int64(39), np.int64(35), np.int64(107)),\n",
       "          (np.int64(65), np.int64(39), np.int64(35), np.int64(108)),\n",
       "          (np.int64(65), np.int64(39), np.int64(35), np.int64(109))],\n",
       "         [(np.int64(63), np.int64(36), np.int64(36), np.int64(100)),\n",
       "          (np.int64(63), np.int64(36), np.int64(36), np.int64(101)),\n",
       "          (np.int64(63), np.int64(36), np.int64(36), np.int64(102)), ...,\n",
       "          (np.int64(65), np.int64(39), np.int64(39), np.int64(102)),\n",
       "          (np.int64(65), np.int64(39), np.int64(39), np.int64(103)),\n",
       "          (np.int64(65), np.int64(39), np.int64(39), np.int64(104))],\n",
       "         [(np.int64(63), np.int64(36), np.int64(36), np.int64(105)),\n",
       "          (np.int64(63), np.int64(36), np.int64(36), np.int64(106)),\n",
       "          (np.int64(63), np.int64(36), np.int64(36), np.int64(107)), ...,\n",
       "          (np.int64(65), np.int64(39), np.int64(39), np.int64(107)),\n",
       "          (np.int64(65), np.int64(39), np.int64(39), np.int64(108)),\n",
       "          (np.int64(65), np.int64(39), np.int64(39), np.int64(109))]]],\n",
       "       dtype=object))"
      ]
     },
     "execution_count": 129,
     "metadata": {},
     "output_type": "execute_result"
    }
   ],
   "source": [
    "get_block_encoding_map_general((220,220,240))"
   ]
  },
  {
   "cell_type": "code",
   "execution_count": 2,
   "metadata": {},
   "outputs": [
    {
     "name": "stderr",
     "output_type": "stream",
     "text": [
      "/Users/maxge/Documents/Studium/München/02_SS 2024/QEL/Block encoding generalization/img-compression-mps/utils_ND.py:84: RuntimeWarning: invalid value encountered in cast\n",
      "  prod_block_sizes[0] = prod_block_sizes[0] * 1e100\n"
     ]
    }
   ],
   "source": [
    "factorlist , prod_blocks = get_factorlist((220,220,240))"
   ]
  },
  {
   "cell_type": "code",
   "execution_count": 3,
   "metadata": {},
   "outputs": [
    {
     "data": {
      "text/plain": [
       "array([[ 2, 11,  3],\n",
       "       [ 2,  5,  4],\n",
       "       [ 5,  2,  4],\n",
       "       [11,  2,  5]])"
      ]
     },
     "execution_count": 3,
     "metadata": {},
     "output_type": "execute_result"
    }
   ],
   "source": [
    "factorlist"
   ]
  },
  {
   "cell_type": "code",
   "execution_count": 4,
   "metadata": {},
   "outputs": [
    {
     "data": {
      "text/plain": [
       "array([[9223372036854775807, 9223372036854775807, 9223372036854775807],\n",
       "       [                110,                  20,                  80],\n",
       "       [                 55,                   4,                  20],\n",
       "       [                 11,                   2,                   5],\n",
       "       [                  1,                   1,                   1]])"
      ]
     },
     "execution_count": 4,
     "metadata": {},
     "output_type": "execute_result"
    }
   ],
   "source": [
    "prod_blocks"
   ]
  },
  {
   "cell_type": "code",
   "execution_count": 5,
   "metadata": {},
   "outputs": [
    {
     "data": {
      "text/plain": [
       "220"
      ]
     },
     "execution_count": 5,
     "metadata": {},
     "output_type": "execute_result"
    }
   ],
   "source": [
    "2*2*5*11"
   ]
  },
  {
   "cell_type": "code",
   "execution_count": null,
   "metadata": {},
   "outputs": [],
   "source": []
  }
 ],
 "metadata": {
  "kernelspec": {
   "display_name": "QEL",
   "language": "python",
   "name": "python3"
  },
  "language_info": {
   "codemirror_mode": {
    "name": "ipython",
    "version": 3
   },
   "file_extension": ".py",
   "mimetype": "text/x-python",
   "name": "python",
   "nbconvert_exporter": "python",
   "pygments_lexer": "ipython3",
   "version": "3.10.15"
  }
 },
 "nbformat": 4,
 "nbformat_minor": 2
}
